{
 "cells": [
  {
   "cell_type": "code",
   "execution_count": 1,
   "id": "a02fb90a",
   "metadata": {},
   "outputs": [],
   "source": [
    "import os\n",
    "os.chdir('/nyb/yb_RiceSeg/RiceSeg/mmsegmentation') ## mmsegmentation 경로"
   ]
  },
  {
   "cell_type": "code",
   "execution_count": 2,
   "id": "15f8932b",
   "metadata": {},
   "outputs": [],
   "source": [
    "output_dir = '/nyb/yb_RiceSeg/Output/RGB/model_output/knet'\n",
    "config_path = '/nyb/yb_RiceSeg/RiceSeg/mmsegmentation/configs/'"
   ]
  },
  {
   "cell_type": "code",
   "execution_count": 3,
   "id": "ba024c39",
   "metadata": {},
   "outputs": [
    {
     "name": "stderr",
     "output_type": "stream",
     "text": [
      "/opt/conda/lib/python3.7/site-packages/tqdm/auto.py:22: TqdmWarning: IProgress not found. Please update jupyter and ipywidgets. See https://ipywidgets.readthedocs.io/en/stable/user_install.html\n",
      "  from .autonotebook import tqdm as notebook_tqdm\n"
     ]
    },
    {
     "name": "stdout",
     "output_type": "stream",
     "text": [
      "0.28.0\n",
      "1.12.0 True\n"
     ]
    }
   ],
   "source": [
    "import mmseg\n",
    "print(mmseg.__version__)\n",
    "from mmseg.apis import inference_segmentor, init_segmentor, show_result_pyplot\n",
    "import mmcv\n",
    "\n",
    "from mmcv import Config\n",
    "from mmseg.datasets import build_dataset\n",
    "from mmseg.models import build_segmentor\n",
    "from mmseg.apis import train_segmentor\n",
    "from mmseg.utils import get_device\n",
    "\n",
    "\n",
    "# Check Pytorch installation\n",
    "import torch, torchvision\n",
    "print(torch.__version__, torch.cuda.is_available())\n",
    "\n",
    "# Check MMSegmentation installation\n"
   ]
  },
  {
   "cell_type": "code",
   "execution_count": 4,
   "id": "71bb65a0-f9df-4ae7-b70f-58904657e8b4",
   "metadata": {},
   "outputs": [
    {
     "name": "stdout",
     "output_type": "stream",
     "text": [
      "nvcc: NVIDIA (R) Cuda compiler driver\n",
      "Copyright (c) 2005-2022 NVIDIA Corporation\n",
      "Built on Wed_Jun__8_16:49:14_PDT_2022\n",
      "Cuda compilation tools, release 11.7, V11.7.99\n",
      "Build cuda_11.7.r11.7/compiler.31442593_0\n",
      "gcc (Ubuntu 7.5.0-3ubuntu1~18.04) 7.5.0\n",
      "Copyright (C) 2017 Free Software Foundation, Inc.\n",
      "This is free software; see the source for copying conditions.  There is NO\n",
      "warranty; not even for MERCHANTABILITY or FITNESS FOR A PARTICULAR PURPOSE.\n",
      "\n"
     ]
    }
   ],
   "source": [
    "# nvcc version \n",
    "!nvcc -V\n",
    "# Check GCC version\n",
    "!gcc --version"
   ]
  },
  {
   "cell_type": "code",
   "execution_count": 5,
   "id": "c12619ef-0f98-4a86-90b6-6e4d8d12021f",
   "metadata": {},
   "outputs": [
    {
     "name": "stdout",
     "output_type": "stream",
     "text": [
      "1.12.0 True\n",
      "0.28.0\n"
     ]
    }
   ],
   "source": [
    "# Check Pytorch installation\n",
    "import torch, torchvision\n",
    "print(torch.__version__, torch.cuda.is_available())\n",
    "\n",
    "# Check MMSegmentation installation\n",
    "import mmseg\n",
    "print(mmseg.__version__)"
   ]
  },
  {
   "cell_type": "code",
   "execution_count": 6,
   "id": "654bc480-1e70-4aeb-b411-a68ac55793a2",
   "metadata": {},
   "outputs": [],
   "source": [
    "import os\n",
    "cfg = Config.fromfile(config_path + 'knet/knet_s3_pspnet_r50-d8_8x2_512x512_adamw_80k_ade20k_rice.py')\n",
    "cfg.img_norm_cfg = dict(\n",
    "    mean=[123.675, 116.28, 103.53], std=[58.395, 57.12, 57.375], to_rgb=True)\n",
    "cfg.crop_size = (512, 512)\n",
    "cfg.train_pipeline = [\n",
    "    dict(type='LoadImageFromFile'),\n",
    "    dict(type='LoadAnnotations'),\n",
    "    dict(type='Resize', img_scale=(512, 512), ratio_range=(0.5, 2.0)),\n",
    "    dict(type='RandomCrop', crop_size=cfg.crop_size, cat_max_ratio=0.75),\n",
    "    dict(type='RandomFlip', flip_ratio=0.5),\n",
    "    dict(type='PhotoMetricDistortion'),\n",
    "    dict(type='Normalize', **cfg.img_norm_cfg),\n",
    "    dict(type='Pad', size=cfg.crop_size, pad_val=0, seg_pad_val=255),\n",
    "    dict(type='DefaultFormatBundle'),\n",
    "    dict(type='Collect', keys=['img', 'gt_semantic_seg']),\n",
    "]\n",
    "\n",
    "cfg.test_pipeline = [\n",
    "    dict(type='LoadImageFromFile'),\n",
    "    dict(\n",
    "        type='MultiScaleFlipAug',\n",
    "        img_scale=(512, 512),\n",
    "        # img_ratios=[0.5, 0.75, 1.0, 1.25, 1.5, 1.75],\n",
    "        flip=False,\n",
    "        transforms=[\n",
    "            dict(type='Resize', keep_ratio=True),\n",
    "            dict(type='RandomFlip'),\n",
    "            dict(type='Normalize', **cfg.img_norm_cfg),\n",
    "            dict(type='ImageToTensor', keys=['img']),\n",
    "            dict(type='Collect', keys=['img']),\n",
    "        ])\n",
    "]"
   ]
  },
  {
   "cell_type": "code",
   "execution_count": 8,
   "id": "fcf33913",
   "metadata": {},
   "outputs": [],
   "source": [
    "cfg.load_from = '/nyb/yb_RiceSeg/RiceSeg/pretrained_chkp/knet_s3_pspnet_r50-d8_8x2_512x512_adamw_80k_ade20k_20220228_054634-d2c72240.pth'\n",
    "cfg.work_dir = '/nyb/yb_RiceSeg/Output/RGB/model_output/knet'\n",
    "cfg.gpu_ids = range(1)\n",
    "cfg.device = 'cuda'\n",
    "cfg.seed = 0"
   ]
  },
  {
   "cell_type": "code",
   "execution_count": 10,
   "id": "8ebc649b",
   "metadata": {},
   "outputs": [
    {
     "name": "stderr",
     "output_type": "stream",
     "text": [
      "2022-11-08 16:52:34,431 - mmseg - INFO - Loaded 3246 images\n"
     ]
    },
    {
     "name": "stdout",
     "output_type": "stream",
     "text": [
      "('background', 'normal', 'doyeol', 'dobok', 'gyulju', 'bujin')\n",
      "[[0, 0, 0], [8, 39, 245], [0, 229, 245], [225, 0, 26], [250, 0, 204], [245, 123, 0]]\n"
     ]
    }
   ],
   "source": [
    "from mmseg.datasets import build_dataset\n",
    "datasets = [build_dataset(cfg.data.train)]\n",
    "\n",
    "print(datasets[0].CLASSES)\n",
    "print(datasets[0].PALETTE)"
   ]
  },
  {
   "cell_type": "code",
   "execution_count": 12,
   "id": "acf6c763",
   "metadata": {},
   "outputs": [
    {
     "name": "stderr",
     "output_type": "stream",
     "text": [
      "2022-11-08 16:52:34,852 - mmseg - INFO - Loaded 3246 images\n",
      "/nyb/yb_RiceSeg/RiceSeg/mmsegmentation/mmseg/models/losses/cross_entropy_loss.py:236: UserWarning: Default ``avg_non_ignore`` is False, if you would like to ignore the certain label and average loss over non-ignore labels, which is the same with PyTorch official cross_entropy, set ``avg_non_ignore=True``.\n",
      "  'Default ``avg_non_ignore`` is False, if you would like to '\n",
      "2022-11-08 16:52:52,585 - mmseg - INFO - Loaded 406 images\n",
      "2022-11-08 16:52:52,588 - mmseg - INFO - load checkpoint from local path: /nyb/yb_RiceSeg/RiceSeg/pretrained_chkp/knet_s3_pspnet_r50-d8_8x2_512x512_adamw_80k_ade20k_20220228_054634-d2c72240.pth\n",
      "2022-11-08 16:52:54,570 - mmseg - WARNING - The model and loaded state dict do not match exactly\n",
      "\n",
      "size mismatch for decode_head.kernel_generate_head.conv_seg.weight: copying a param with shape torch.Size([150, 512, 1, 1]) from checkpoint, the shape in current model is torch.Size([6, 512, 1, 1]).\n",
      "size mismatch for decode_head.kernel_generate_head.conv_seg.bias: copying a param with shape torch.Size([150]) from checkpoint, the shape in current model is torch.Size([6]).\n",
      "size mismatch for auxiliary_head.conv_seg.weight: copying a param with shape torch.Size([150, 256, 1, 1]) from checkpoint, the shape in current model is torch.Size([6, 256, 1, 1]).\n",
      "size mismatch for auxiliary_head.conv_seg.bias: copying a param with shape torch.Size([150]) from checkpoint, the shape in current model is torch.Size([6]).\n",
      "2022-11-08 16:52:54,584 - mmseg - INFO - Start running, host: root@gpu-1, work_dir: /nyb/yb_RiceSeg/Output/RGB/model_output/knet\n",
      "2022-11-08 16:52:54,585 - mmseg - INFO - Hooks will be executed in the following order:\n",
      "before_run:\n",
      "(VERY_HIGH   ) StepLrUpdaterHook                  \n",
      "(NORMAL      ) CheckpointHook                     \n",
      "(LOW         ) EvalHook                           \n",
      "(VERY_LOW    ) TextLoggerHook                     \n",
      " -------------------- \n",
      "before_train_epoch:\n",
      "(VERY_HIGH   ) StepLrUpdaterHook                  \n",
      "(LOW         ) IterTimerHook                      \n",
      "(LOW         ) EvalHook                           \n",
      "(VERY_LOW    ) TextLoggerHook                     \n",
      " -------------------- \n",
      "before_train_iter:\n",
      "(VERY_HIGH   ) StepLrUpdaterHook                  \n",
      "(LOW         ) IterTimerHook                      \n",
      "(LOW         ) EvalHook                           \n",
      " -------------------- \n",
      "after_train_iter:\n",
      "(ABOVE_NORMAL) OptimizerHook                      \n",
      "(NORMAL      ) CheckpointHook                     \n",
      "(LOW         ) IterTimerHook                      \n",
      "(LOW         ) EvalHook                           \n",
      "(VERY_LOW    ) TextLoggerHook                     \n",
      " -------------------- \n",
      "after_train_epoch:\n",
      "(NORMAL      ) CheckpointHook                     \n",
      "(LOW         ) EvalHook                           \n",
      "(VERY_LOW    ) TextLoggerHook                     \n",
      " -------------------- \n",
      "before_val_epoch:\n",
      "(LOW         ) IterTimerHook                      \n",
      "(VERY_LOW    ) TextLoggerHook                     \n",
      " -------------------- \n",
      "before_val_iter:\n",
      "(LOW         ) IterTimerHook                      \n",
      " -------------------- \n",
      "after_val_iter:\n",
      "(LOW         ) IterTimerHook                      \n",
      " -------------------- \n",
      "after_val_epoch:\n",
      "(VERY_LOW    ) TextLoggerHook                     \n",
      " -------------------- \n",
      "after_run:\n",
      "(VERY_LOW    ) TextLoggerHook                     \n",
      " -------------------- \n",
      "2022-11-08 16:52:54,586 - mmseg - INFO - workflow: [('train', 1)], max: 8000 iters\n",
      "2022-11-08 16:52:54,587 - mmseg - INFO - Checkpoints will be saved to /nyb/yb_RiceSeg/Output/RGB/model_output/knet by HardDiskBackend.\n",
      "2022-11-08 16:53:19,197 - mmseg - INFO - Iter [50/8000]\tlr: 4.995e-06, eta: 1:04:34, time: 0.487, data_time: 0.013, memory: 3509, decode.loss_ce.s0: 1.5173, decode.acc_seg.s0: 32.1484, decode.loss_ce.s1: 1.7921, decode.acc_seg.s1: 15.3165, decode.loss_ce.s2: 1.8450, decode.acc_seg.s2: 19.9766, decode.loss_ce.s3: 1.8328, decode.acc_seg.s3: 20.1578, aux.loss_ce: 0.8395, aux.acc_seg: 5.4981, loss: 7.8266, grad_norm: 200.0486\n",
      "2022-11-08 16:53:27,684 - mmseg - INFO - Iter [100/8000]\tlr: 9.990e-06, eta: 0:43:15, time: 0.170, data_time: 0.005, memory: 3509, decode.loss_ce.s0: 1.3485, decode.acc_seg.s0: 41.8541, decode.loss_ce.s1: 1.1994, decode.acc_seg.s1: 46.8018, decode.loss_ce.s2: 1.2102, decode.acc_seg.s2: 50.4699, decode.loss_ce.s3: 1.2441, decode.acc_seg.s3: 49.6527, aux.loss_ce: 0.7532, aux.acc_seg: 6.5262, loss: 5.7553, grad_norm: 195.3946\n",
      "2022-11-08 16:53:36,274 - mmseg - INFO - Iter [150/8000]\tlr: 1.499e-05, eta: 0:36:08, time: 0.172, data_time: 0.005, memory: 3509, decode.loss_ce.s0: 1.2221, decode.acc_seg.s0: 48.7093, decode.loss_ce.s1: 0.7316, decode.acc_seg.s1: 73.5784, decode.loss_ce.s2: 0.7207, decode.acc_seg.s2: 76.2661, decode.loss_ce.s3: 0.7393, decode.acc_seg.s3: 76.0239, aux.loss_ce: 0.6886, aux.acc_seg: 11.5624, loss: 4.1025, grad_norm: 158.3360\n",
      "2022-11-08 16:53:45,024 - mmseg - INFO - Iter [200/8000]\tlr: 1.998e-05, eta: 0:32:37, time: 0.175, data_time: 0.005, memory: 3509, decode.loss_ce.s0: 1.1482, decode.acc_seg.s0: 58.1827, decode.loss_ce.s1: 0.5477, decode.acc_seg.s1: 79.4175, decode.loss_ce.s2: 0.5060, decode.acc_seg.s2: 80.9483, decode.loss_ce.s3: 0.4959, decode.acc_seg.s3: 81.1675, aux.loss_ce: 0.6428, aux.acc_seg: 24.7453, loss: 3.3406, grad_norm: 114.4525\n",
      "2022-11-08 16:53:53,914 - mmseg - INFO - Iter [250/8000]\tlr: 2.498e-05, eta: 0:30:31, time: 0.178, data_time: 0.005, memory: 3509, decode.loss_ce.s0: 0.9560, decode.acc_seg.s0: 69.3315, decode.loss_ce.s1: 0.5120, decode.acc_seg.s1: 81.9472, decode.loss_ce.s2: 0.4975, decode.acc_seg.s2: 82.6794, decode.loss_ce.s3: 0.4759, decode.acc_seg.s3: 82.9527, aux.loss_ce: 0.4982, aux.acc_seg: 52.9881, loss: 2.9397, grad_norm: 90.8173\n",
      "2022-11-08 16:54:02,551 - mmseg - INFO - Iter [300/8000]\tlr: 2.997e-05, eta: 0:28:58, time: 0.173, data_time: 0.005, memory: 3509, decode.loss_ce.s0: 0.7550, decode.acc_seg.s0: 78.2264, decode.loss_ce.s1: 0.4508, decode.acc_seg.s1: 85.1138, decode.loss_ce.s2: 0.4414, decode.acc_seg.s2: 85.3972, decode.loss_ce.s3: 0.4355, decode.acc_seg.s3: 84.9610, aux.loss_ce: 0.3831, aux.acc_seg: 70.4663, loss: 2.4658, grad_norm: 94.9552\n",
      "2022-11-08 16:54:11,039 - mmseg - INFO - Iter [350/8000]\tlr: 3.497e-05, eta: 0:27:45, time: 0.170, data_time: 0.005, memory: 3509, decode.loss_ce.s0: 0.7139, decode.acc_seg.s0: 78.8599, decode.loss_ce.s1: 0.4084, decode.acc_seg.s1: 85.6832, decode.loss_ce.s2: 0.3917, decode.acc_seg.s2: 85.9511, decode.loss_ce.s3: 0.3889, decode.acc_seg.s3: 86.1370, aux.loss_ce: 0.3640, aux.acc_seg: 75.5604, loss: 2.2669, grad_norm: 58.3064\n",
      "2022-11-08 16:54:19,840 - mmseg - INFO - Iter [400/8000]\tlr: 3.996e-05, eta: 0:26:55, time: 0.176, data_time: 0.005, memory: 3509, decode.loss_ce.s0: 0.5712, decode.acc_seg.s0: 82.8496, decode.loss_ce.s1: 0.4389, decode.acc_seg.s1: 84.4165, decode.loss_ce.s2: 0.4298, decode.acc_seg.s2: 84.4395, decode.loss_ce.s3: 0.4369, decode.acc_seg.s3: 84.4015, aux.loss_ce: 0.2778, aux.acc_seg: 80.8408, loss: 2.1547, grad_norm: 79.8032\n",
      "2022-11-08 16:54:28,342 - mmseg - INFO - Iter [450/8000]\tlr: 4.496e-05, eta: 0:26:08, time: 0.170, data_time: 0.005, memory: 3509, decode.loss_ce.s0: 0.4461, decode.acc_seg.s0: 85.8856, decode.loss_ce.s1: 0.3464, decode.acc_seg.s1: 88.4087, decode.loss_ce.s2: 0.3416, decode.acc_seg.s2: 88.3301, decode.loss_ce.s3: 0.3488, decode.acc_seg.s3: 88.2160, aux.loss_ce: 0.2159, aux.acc_seg: 84.8596, loss: 1.6988, grad_norm: 54.4797\n",
      "2022-11-08 16:54:36,738 - mmseg - INFO - Iter [500/8000]\tlr: 4.995e-05, eta: 0:25:28, time: 0.168, data_time: 0.005, memory: 3509, decode.loss_ce.s0: 0.4115, decode.acc_seg.s0: 85.4409, decode.loss_ce.s1: 0.3199, decode.acc_seg.s1: 88.5151, decode.loss_ce.s2: 0.3081, decode.acc_seg.s2: 88.6930, decode.loss_ce.s3: 0.3127, decode.acc_seg.s3: 88.5478, aux.loss_ce: 0.1719, aux.acc_seg: 85.9161, loss: 1.5241, grad_norm: 53.3935\n",
      "2022-11-08 16:54:45,054 - mmseg - INFO - Iter [550/8000]\tlr: 5.495e-05, eta: 0:24:52, time: 0.166, data_time: 0.005, memory: 3509, decode.loss_ce.s0: 0.3568, decode.acc_seg.s0: 85.9876, decode.loss_ce.s1: 0.2894, decode.acc_seg.s1: 88.9489, decode.loss_ce.s2: 0.2905, decode.acc_seg.s2: 89.3309, decode.loss_ce.s3: 0.2853, decode.acc_seg.s3: 89.5219, aux.loss_ce: 0.1486, aux.acc_seg: 86.7614, loss: 1.3707, grad_norm: 60.1584\n",
      "2022-11-08 16:54:53,520 - mmseg - INFO - Iter [600/8000]\tlr: 5.994e-05, eta: 0:24:23, time: 0.169, data_time: 0.005, memory: 3509, decode.loss_ce.s0: 0.4439, decode.acc_seg.s0: 84.9304, decode.loss_ce.s1: 0.3901, decode.acc_seg.s1: 87.6410, decode.loss_ce.s2: 0.3740, decode.acc_seg.s2: 88.1291, decode.loss_ce.s3: 0.3724, decode.acc_seg.s3: 88.0503, aux.loss_ce: 0.1856, aux.acc_seg: 85.1860, loss: 1.7660, grad_norm: 68.2674\n",
      "2022-11-08 16:55:02,148 - mmseg - INFO - Iter [650/8000]\tlr: 6.494e-05, eta: 0:23:59, time: 0.173, data_time: 0.005, memory: 3509, decode.loss_ce.s0: 0.4014, decode.acc_seg.s0: 84.5423, decode.loss_ce.s1: 0.3475, decode.acc_seg.s1: 87.6734, decode.loss_ce.s2: 0.3534, decode.acc_seg.s2: 87.4105, decode.loss_ce.s3: 0.3550, decode.acc_seg.s3: 87.1167, aux.loss_ce: 0.1777, aux.acc_seg: 83.4669, loss: 1.6350, grad_norm: 113.9610\n",
      "2022-11-08 16:55:10,945 - mmseg - INFO - Iter [700/8000]\tlr: 6.993e-05, eta: 0:23:39, time: 0.176, data_time: 0.005, memory: 3509, decode.loss_ce.s0: 0.4063, decode.acc_seg.s0: 86.0183, decode.loss_ce.s1: 0.4058, decode.acc_seg.s1: 87.7230, decode.loss_ce.s2: 0.3844, decode.acc_seg.s2: 88.0560, decode.loss_ce.s3: 0.3870, decode.acc_seg.s3: 88.0558, aux.loss_ce: 0.1710, aux.acc_seg: 85.7378, loss: 1.7545, grad_norm: 36.7319\n",
      "2022-11-08 16:55:19,449 - mmseg - INFO - Iter [750/8000]\tlr: 7.493e-05, eta: 0:23:17, time: 0.170, data_time: 0.005, memory: 3509, decode.loss_ce.s0: 0.2826, decode.acc_seg.s0: 88.7756, decode.loss_ce.s1: 0.2773, decode.acc_seg.s1: 89.8715, decode.loss_ce.s2: 0.2637, decode.acc_seg.s2: 90.0968, decode.loss_ce.s3: 0.2651, decode.acc_seg.s3: 90.1579, aux.loss_ce: 0.1193, aux.acc_seg: 88.3401, loss: 1.2079, grad_norm: 37.9053\n",
      "2022-11-08 16:55:28,163 - mmseg - INFO - Saving checkpoint at 800 iterations\n",
      "2022-11-08 16:55:34,600 - mmseg - INFO - Iter [800/8000]\tlr: 7.992e-05, eta: 0:23:57, time: 0.303, data_time: 0.005, memory: 3509, decode.loss_ce.s0: 0.3430, decode.acc_seg.s0: 87.6320, decode.loss_ce.s1: 0.3161, decode.acc_seg.s1: 89.3945, decode.loss_ce.s2: 0.3032, decode.acc_seg.s2: 89.5602, decode.loss_ce.s3: 0.3067, decode.acc_seg.s3: 89.5440, aux.loss_ce: 0.1551, aux.acc_seg: 86.8022, loss: 1.4241, grad_norm: 38.5520\n"
     ]
    },
    {
     "name": "stdout",
     "output_type": "stream",
     "text": [
      "[>>>>>>>>>>>>>>>>>>>>>>>>>>>>>] 406/406, 13.9 task/s, elapsed: 29s, ETA:     0s"
     ]
    },
    {
     "name": "stderr",
     "output_type": "stream",
     "text": [
      "2022-11-08 16:56:03,951 - mmseg - INFO - per class results:\n",
      "2022-11-08 16:56:03,977 - mmseg - INFO - \n",
      "+------------+-------+-------+\n",
      "|   Class    |  IoU  |  Acc  |\n",
      "+------------+-------+-------+\n",
      "| background | 79.88 | 86.13 |\n",
      "|   normal   | 90.31 | 97.68 |\n",
      "|   doyeol   |  nan  |  nan  |\n",
      "|   dobok    |  0.0  |  0.0  |\n",
      "|   gyulju   |  5.5  |  5.88 |\n",
      "|   bujin    |  0.0  |  0.0  |\n",
      "+------------+-------+-------+\n",
      "2022-11-08 16:56:03,978 - mmseg - INFO - Summary:\n",
      "2022-11-08 16:56:03,981 - mmseg - INFO - \n",
      "+-------+-------+-------+\n",
      "|  aAcc |  mIoU |  mAcc |\n",
      "+-------+-------+-------+\n",
      "| 92.04 | 35.14 | 37.94 |\n",
      "+-------+-------+-------+\n",
      "2022-11-08 16:56:03,990 - mmseg - INFO - Iter(val) [406]\taAcc: 0.9204, mIoU: 0.3514, mAcc: 0.3794, IoU.background: 0.7988, IoU.normal: 0.9031, IoU.doyeol: nan, IoU.dobok: 0.0000, IoU.gyulju: 0.0550, IoU.bujin: 0.0000, Acc.background: 0.8613, Acc.normal: 0.9768, Acc.doyeol: nan, Acc.dobok: 0.0000, Acc.gyulju: 0.0588, Acc.bujin: 0.0000\n",
      "2022-11-08 16:56:12,542 - mmseg - INFO - Iter [850/8000]\tlr: 8.492e-05, eta: 0:27:43, time: 0.759, data_time: 0.594, memory: 3509, decode.loss_ce.s0: 0.3565, decode.acc_seg.s0: 87.6651, decode.loss_ce.s1: 0.2607, decode.acc_seg.s1: 90.1149, decode.loss_ce.s2: 0.2596, decode.acc_seg.s2: 89.8652, decode.loss_ce.s3: 0.2554, decode.acc_seg.s3: 89.9628, aux.loss_ce: 0.1525, aux.acc_seg: 86.9593, loss: 1.2849, grad_norm: 40.1950\n",
      "2022-11-08 16:56:21,130 - mmseg - INFO - Iter [900/8000]\tlr: 8.991e-05, eta: 0:27:07, time: 0.172, data_time: 0.005, memory: 3509, decode.loss_ce.s0: 0.3619, decode.acc_seg.s0: 87.3578, decode.loss_ce.s1: 0.3007, decode.acc_seg.s1: 90.0641, decode.loss_ce.s2: 0.3014, decode.acc_seg.s2: 89.4341, decode.loss_ce.s3: 0.3072, decode.acc_seg.s3: 89.2305, aux.loss_ce: 0.1494, aux.acc_seg: 87.1007, loss: 1.4205, grad_norm: 36.1339\n",
      "2022-11-08 16:56:29,615 - mmseg - INFO - Iter [950/8000]\tlr: 9.491e-05, eta: 0:26:33, time: 0.170, data_time: 0.005, memory: 3509, decode.loss_ce.s0: 0.3279, decode.acc_seg.s0: 89.2434, decode.loss_ce.s1: 0.3144, decode.acc_seg.s1: 89.8391, decode.loss_ce.s2: 0.3391, decode.acc_seg.s2: 89.6479, decode.loss_ce.s3: 0.3498, decode.acc_seg.s3: 89.6025, aux.loss_ce: 0.1444, aux.acc_seg: 87.8709, loss: 1.4756, grad_norm: 24.9992\n",
      "2022-11-08 16:56:38,083 - mmseg - INFO - Iter [1000/8000]\tlr: 9.990e-05, eta: 0:26:02, time: 0.169, data_time: 0.005, memory: 3509, decode.loss_ce.s0: 0.2853, decode.acc_seg.s0: 90.0898, decode.loss_ce.s1: 0.2685, decode.acc_seg.s1: 91.4585, decode.loss_ce.s2: 0.2682, decode.acc_seg.s2: 91.4653, decode.loss_ce.s3: 0.2693, decode.acc_seg.s3: 91.3210, aux.loss_ce: 0.1206, aux.acc_seg: 89.3257, loss: 1.2119, grad_norm: 22.3723\n",
      "2022-11-08 16:56:46,250 - mmseg - INFO - Iter [1050/8000]\tlr: 1.000e-04, eta: 0:25:31, time: 0.163, data_time: 0.005, memory: 3509, decode.loss_ce.s0: 0.3603, decode.acc_seg.s0: 88.3306, decode.loss_ce.s1: 0.3283, decode.acc_seg.s1: 88.5683, decode.loss_ce.s2: 0.3137, decode.acc_seg.s2: 88.3753, decode.loss_ce.s3: 0.3160, decode.acc_seg.s3: 88.4705, aux.loss_ce: 0.1605, aux.acc_seg: 86.4346, loss: 1.4787, grad_norm: 33.8765\n",
      "2022-11-08 16:56:54,702 - mmseg - INFO - Iter [1100/8000]\tlr: 1.000e-04, eta: 0:25:04, time: 0.169, data_time: 0.005, memory: 3509, decode.loss_ce.s0: 0.3264, decode.acc_seg.s0: 89.5936, decode.loss_ce.s1: 0.2965, decode.acc_seg.s1: 91.6588, decode.loss_ce.s2: 0.2709, decode.acc_seg.s2: 91.5342, decode.loss_ce.s3: 0.2778, decode.acc_seg.s3: 91.5705, aux.loss_ce: 0.1356, aux.acc_seg: 88.1263, loss: 1.3073, grad_norm: 20.4068\n",
      "2022-11-08 16:57:03,421 - mmseg - INFO - Iter [1150/8000]\tlr: 1.000e-04, eta: 0:24:40, time: 0.174, data_time: 0.005, memory: 3509, decode.loss_ce.s0: 0.3861, decode.acc_seg.s0: 88.7921, decode.loss_ce.s1: 0.2515, decode.acc_seg.s1: 90.7756, decode.loss_ce.s2: 0.2607, decode.acc_seg.s2: 90.8141, decode.loss_ce.s3: 0.2561, decode.acc_seg.s3: 90.9233, aux.loss_ce: 0.1593, aux.acc_seg: 87.7116, loss: 1.3138, grad_norm: 32.5742\n",
      "2022-11-08 16:57:12,080 - mmseg - INFO - Iter [1200/8000]\tlr: 1.000e-04, eta: 0:24:17, time: 0.173, data_time: 0.005, memory: 3509, decode.loss_ce.s0: 0.3987, decode.acc_seg.s0: 87.3722, decode.loss_ce.s1: 0.3960, decode.acc_seg.s1: 88.9661, decode.loss_ce.s2: 0.3643, decode.acc_seg.s2: 89.4492, decode.loss_ce.s3: 0.3730, decode.acc_seg.s3: 89.4606, aux.loss_ce: 0.1682, aux.acc_seg: 86.3678, loss: 1.7002, grad_norm: 29.1955\n",
      "2022-11-08 16:57:20,532 - mmseg - INFO - Iter [1250/8000]\tlr: 1.000e-04, eta: 0:23:54, time: 0.169, data_time: 0.005, memory: 3509, decode.loss_ce.s0: 0.4260, decode.acc_seg.s0: 87.7873, decode.loss_ce.s1: 0.3939, decode.acc_seg.s1: 89.6057, decode.loss_ce.s2: 0.3754, decode.acc_seg.s2: 89.6069, decode.loss_ce.s3: 0.3770, decode.acc_seg.s3: 89.6455, aux.loss_ce: 0.1746, aux.acc_seg: 87.0269, loss: 1.7468, grad_norm: 31.0193\n",
      "2022-11-08 16:57:28,848 - mmseg - INFO - Iter [1300/8000]\tlr: 1.000e-04, eta: 0:23:32, time: 0.166, data_time: 0.005, memory: 3509, decode.loss_ce.s0: 0.3918, decode.acc_seg.s0: 87.9740, decode.loss_ce.s1: 0.4003, decode.acc_seg.s1: 87.5128, decode.loss_ce.s2: 0.3921, decode.acc_seg.s2: 87.6954, decode.loss_ce.s3: 0.3941, decode.acc_seg.s3: 87.6050, aux.loss_ce: 0.1673, aux.acc_seg: 87.1250, loss: 1.7455, grad_norm: 25.9613\n",
      "2022-11-08 16:57:37,087 - mmseg - INFO - Iter [1350/8000]\tlr: 1.000e-04, eta: 0:23:10, time: 0.165, data_time: 0.005, memory: 3509, decode.loss_ce.s0: 0.2998, decode.acc_seg.s0: 89.9429, decode.loss_ce.s1: 0.2770, decode.acc_seg.s1: 90.4876, decode.loss_ce.s2: 0.2803, decode.acc_seg.s2: 90.3905, decode.loss_ce.s3: 0.2816, decode.acc_seg.s3: 90.4090, aux.loss_ce: 0.1151, aux.acc_seg: 89.5108, loss: 1.2539, grad_norm: 19.2136\n",
      "2022-11-08 16:57:45,389 - mmseg - INFO - Iter [1400/8000]\tlr: 1.000e-04, eta: 0:22:49, time: 0.166, data_time: 0.004, memory: 3509, decode.loss_ce.s0: 0.2977, decode.acc_seg.s0: 90.1237, decode.loss_ce.s1: 0.2887, decode.acc_seg.s1: 90.7158, decode.loss_ce.s2: 0.2808, decode.acc_seg.s2: 90.7182, decode.loss_ce.s3: 0.2842, decode.acc_seg.s3: 90.7942, aux.loss_ce: 0.1204, aux.acc_seg: 89.8917, loss: 1.2718, grad_norm: 31.0698\n",
      "2022-11-08 16:57:54,549 - mmseg - INFO - Iter [1450/8000]\tlr: 1.000e-04, eta: 0:22:33, time: 0.183, data_time: 0.005, memory: 3509, decode.loss_ce.s0: 0.3506, decode.acc_seg.s0: 89.5944, decode.loss_ce.s1: 0.2975, decode.acc_seg.s1: 90.2169, decode.loss_ce.s2: 0.2959, decode.acc_seg.s2: 90.4266, decode.loss_ce.s3: 0.3118, decode.acc_seg.s3: 90.2871, aux.loss_ce: 0.1381, aux.acc_seg: 89.0184, loss: 1.3939, grad_norm: 21.8453\n",
      "2022-11-08 16:58:03,282 - mmseg - INFO - Iter [1500/8000]\tlr: 1.000e-04, eta: 0:22:16, time: 0.175, data_time: 0.005, memory: 3509, decode.loss_ce.s0: 0.3220, decode.acc_seg.s0: 90.5228, decode.loss_ce.s1: 0.2657, decode.acc_seg.s1: 91.4422, decode.loss_ce.s2: 0.2693, decode.acc_seg.s2: 91.5434, decode.loss_ce.s3: 0.2758, decode.acc_seg.s3: 91.5221, aux.loss_ce: 0.1378, aux.acc_seg: 89.5525, loss: 1.2706, grad_norm: 20.8614\n",
      "2022-11-08 16:58:12,336 - mmseg - INFO - Iter [1550/8000]\tlr: 1.000e-04, eta: 0:22:01, time: 0.181, data_time: 0.005, memory: 3509, decode.loss_ce.s0: 0.3444, decode.acc_seg.s0: 88.3664, decode.loss_ce.s1: 0.3171, decode.acc_seg.s1: 88.9544, decode.loss_ce.s2: 0.3134, decode.acc_seg.s2: 89.0067, decode.loss_ce.s3: 0.3225, decode.acc_seg.s3: 89.0552, aux.loss_ce: 0.1323, aux.acc_seg: 88.3308, loss: 1.4297, grad_norm: 22.1749\n",
      "2022-11-08 16:58:20,908 - mmseg - INFO - Saving checkpoint at 1600 iterations\n",
      "2022-11-08 16:58:29,241 - mmseg - INFO - Iter [1600/8000]\tlr: 1.000e-04, eta: 0:22:17, time: 0.338, data_time: 0.005, memory: 3509, decode.loss_ce.s0: 0.4237, decode.acc_seg.s0: 88.4256, decode.loss_ce.s1: 0.3912, decode.acc_seg.s1: 89.5823, decode.loss_ce.s2: 0.3946, decode.acc_seg.s2: 89.9048, decode.loss_ce.s3: 0.3857, decode.acc_seg.s3: 89.9668, aux.loss_ce: 0.1844, aux.acc_seg: 87.3779, loss: 1.7795, grad_norm: 38.0984\n"
     ]
    },
    {
     "name": "stdout",
     "output_type": "stream",
     "text": [
      "[>>>>>>>>>>>>>>>>>>>>>>>>>>>>>] 406/406, 14.5 task/s, elapsed: 28s, ETA:     0s"
     ]
    },
    {
     "name": "stderr",
     "output_type": "stream",
     "text": [
      "2022-11-08 16:58:57,308 - mmseg - INFO - per class results:\n",
      "2022-11-08 16:58:57,314 - mmseg - INFO - \n",
      "+------------+-------+-------+\n",
      "|   Class    |  IoU  |  Acc  |\n",
      "+------------+-------+-------+\n",
      "| background | 75.44 | 78.55 |\n",
      "|   normal   | 89.26 | 98.83 |\n",
      "|   doyeol   |  nan  |  nan  |\n",
      "|   dobok    |  0.0  |  0.0  |\n",
      "|   gyulju   |  1.83 |  1.91 |\n",
      "|   bujin    |  0.0  |  0.0  |\n",
      "+------------+-------+-------+\n",
      "2022-11-08 16:58:57,315 - mmseg - INFO - Summary:\n",
      "2022-11-08 16:58:57,316 - mmseg - INFO - \n",
      "+-------+-------+-------+\n",
      "|  aAcc |  mIoU |  mAcc |\n",
      "+-------+-------+-------+\n",
      "| 91.03 | 33.31 | 35.86 |\n",
      "+-------+-------+-------+\n",
      "2022-11-08 16:58:57,318 - mmseg - INFO - Iter(val) [406]\taAcc: 0.9103, mIoU: 0.3331, mAcc: 0.3586, IoU.background: 0.7544, IoU.normal: 0.8926, IoU.doyeol: nan, IoU.dobok: 0.0000, IoU.gyulju: 0.0183, IoU.bujin: 0.0000, Acc.background: 0.7855, Acc.normal: 0.9883, Acc.doyeol: nan, Acc.dobok: 0.0000, Acc.gyulju: 0.0191, Acc.bujin: 0.0000\n",
      "2022-11-08 16:59:08,109 - mmseg - INFO - Iter [1650/8000]\tlr: 1.000e-04, eta: 0:23:56, time: 0.777, data_time: 0.609, memory: 3509, decode.loss_ce.s0: 0.2762, decode.acc_seg.s0: 91.5630, decode.loss_ce.s1: 0.2774, decode.acc_seg.s1: 92.1396, decode.loss_ce.s2: 0.2740, decode.acc_seg.s2: 92.0873, decode.loss_ce.s3: 0.2811, decode.acc_seg.s3: 91.9848, aux.loss_ce: 0.1157, aux.acc_seg: 91.1082, loss: 1.2245, grad_norm: 21.8348\n",
      "2022-11-08 16:59:16,466 - mmseg - INFO - Iter [1700/8000]\tlr: 1.000e-04, eta: 0:23:34, time: 0.167, data_time: 0.005, memory: 3509, decode.loss_ce.s0: 0.2808, decode.acc_seg.s0: 91.1354, decode.loss_ce.s1: 0.2896, decode.acc_seg.s1: 91.7213, decode.loss_ce.s2: 0.2649, decode.acc_seg.s2: 92.0657, decode.loss_ce.s3: 0.2690, decode.acc_seg.s3: 92.0352, aux.loss_ce: 0.1088, aux.acc_seg: 90.8967, loss: 1.2131, grad_norm: 16.6255\n",
      "2022-11-08 16:59:24,935 - mmseg - INFO - Iter [1750/8000]\tlr: 1.000e-04, eta: 0:23:13, time: 0.169, data_time: 0.005, memory: 3509, decode.loss_ce.s0: 0.4050, decode.acc_seg.s0: 88.6095, decode.loss_ce.s1: 0.3711, decode.acc_seg.s1: 89.4013, decode.loss_ce.s2: 0.3666, decode.acc_seg.s2: 89.7757, decode.loss_ce.s3: 0.3594, decode.acc_seg.s3: 89.7243, aux.loss_ce: 0.1653, aux.acc_seg: 88.0978, loss: 1.6673, grad_norm: 21.8975\n",
      "2022-11-08 16:59:33,358 - mmseg - INFO - Iter [1800/8000]\tlr: 1.000e-04, eta: 0:22:52, time: 0.168, data_time: 0.005, memory: 3509, decode.loss_ce.s0: 0.2339, decode.acc_seg.s0: 92.0549, decode.loss_ce.s1: 0.2239, decode.acc_seg.s1: 91.6612, decode.loss_ce.s2: 0.2346, decode.acc_seg.s2: 91.4543, decode.loss_ce.s3: 0.2404, decode.acc_seg.s3: 91.4234, aux.loss_ce: 0.1031, aux.acc_seg: 91.8819, loss: 1.0359, grad_norm: 25.3170\n",
      "2022-11-08 16:59:41,837 - mmseg - INFO - Iter [1850/8000]\tlr: 1.000e-04, eta: 0:22:32, time: 0.170, data_time: 0.005, memory: 3509, decode.loss_ce.s0: 0.3073, decode.acc_seg.s0: 90.6277, decode.loss_ce.s1: 0.2936, decode.acc_seg.s1: 90.5136, decode.loss_ce.s2: 0.2944, decode.acc_seg.s2: 90.6151, decode.loss_ce.s3: 0.2974, decode.acc_seg.s3: 90.6049, aux.loss_ce: 0.1212, aux.acc_seg: 90.2652, loss: 1.3139, grad_norm: 25.0930\n",
      "2022-11-08 16:59:50,591 - mmseg - INFO - Iter [1900/8000]\tlr: 1.000e-04, eta: 0:22:14, time: 0.175, data_time: 0.005, memory: 3509, decode.loss_ce.s0: 0.3199, decode.acc_seg.s0: 90.2004, decode.loss_ce.s1: 0.3122, decode.acc_seg.s1: 90.4052, decode.loss_ce.s2: 0.3201, decode.acc_seg.s2: 90.4354, decode.loss_ce.s3: 0.3231, decode.acc_seg.s3: 90.4096, aux.loss_ce: 0.1454, aux.acc_seg: 89.4508, loss: 1.4208, grad_norm: 16.9243\n",
      "2022-11-08 16:59:59,471 - mmseg - INFO - Iter [1950/8000]\tlr: 1.000e-04, eta: 0:21:57, time: 0.178, data_time: 0.005, memory: 3509, decode.loss_ce.s0: 0.2770, decode.acc_seg.s0: 91.1418, decode.loss_ce.s1: 0.2651, decode.acc_seg.s1: 91.5886, decode.loss_ce.s2: 0.2629, decode.acc_seg.s2: 91.6639, decode.loss_ce.s3: 0.2639, decode.acc_seg.s3: 91.7050, aux.loss_ce: 0.1037, aux.acc_seg: 91.1923, loss: 1.1727, grad_norm: 18.4172\n",
      "2022-11-08 17:00:07,926 - mmseg - INFO - Iter [2000/8000]\tlr: 1.000e-04, eta: 0:21:39, time: 0.169, data_time: 0.005, memory: 3509, decode.loss_ce.s0: 0.2831, decode.acc_seg.s0: 91.8812, decode.loss_ce.s1: 0.2569, decode.acc_seg.s1: 92.1133, decode.loss_ce.s2: 0.2522, decode.acc_seg.s2: 92.3956, decode.loss_ce.s3: 0.2691, decode.acc_seg.s3: 92.4795, aux.loss_ce: 0.1268, aux.acc_seg: 91.3077, loss: 1.1881, grad_norm: 17.5738\n",
      "2022-11-08 17:00:16,362 - mmseg - INFO - Iter [2050/8000]\tlr: 1.000e-04, eta: 0:21:21, time: 0.169, data_time: 0.005, memory: 3509, decode.loss_ce.s0: 0.4233, decode.acc_seg.s0: 90.7245, decode.loss_ce.s1: 0.3147, decode.acc_seg.s1: 91.0889, decode.loss_ce.s2: 0.3076, decode.acc_seg.s2: 91.1303, decode.loss_ce.s3: 0.3196, decode.acc_seg.s3: 91.0462, aux.loss_ce: 0.1726, aux.acc_seg: 89.7626, loss: 1.5378, grad_norm: 25.5864\n",
      "2022-11-08 17:00:25,922 - mmseg - INFO - Iter [2100/8000]\tlr: 1.000e-04, eta: 0:21:07, time: 0.191, data_time: 0.005, memory: 3509, decode.loss_ce.s0: 0.3831, decode.acc_seg.s0: 88.7145, decode.loss_ce.s1: 0.3538, decode.acc_seg.s1: 88.5770, decode.loss_ce.s2: 0.3591, decode.acc_seg.s2: 88.4537, decode.loss_ce.s3: 0.3685, decode.acc_seg.s3: 88.4201, aux.loss_ce: 0.1651, aux.acc_seg: 87.9844, loss: 1.6295, grad_norm: 28.5717\n",
      "2022-11-08 17:00:34,588 - mmseg - INFO - Iter [2150/8000]\tlr: 1.000e-04, eta: 0:20:50, time: 0.173, data_time: 0.005, memory: 3509, decode.loss_ce.s0: 0.3069, decode.acc_seg.s0: 91.3146, decode.loss_ce.s1: 0.2753, decode.acc_seg.s1: 91.9125, decode.loss_ce.s2: 0.2731, decode.acc_seg.s2: 91.6833, decode.loss_ce.s3: 0.2739, decode.acc_seg.s3: 91.1833, aux.loss_ce: 0.1321, aux.acc_seg: 90.7794, loss: 1.2613, grad_norm: 22.3065\n",
      "2022-11-08 17:00:43,078 - mmseg - INFO - Iter [2200/8000]\tlr: 1.000e-04, eta: 0:20:34, time: 0.170, data_time: 0.005, memory: 3509, decode.loss_ce.s0: 0.2102, decode.acc_seg.s0: 92.8595, decode.loss_ce.s1: 0.2067, decode.acc_seg.s1: 93.0868, decode.loss_ce.s2: 0.2056, decode.acc_seg.s2: 93.2646, decode.loss_ce.s3: 0.2126, decode.acc_seg.s3: 93.1653, aux.loss_ce: 0.0816, aux.acc_seg: 92.8125, loss: 0.9167, grad_norm: 14.1869\n",
      "2022-11-08 17:00:51,425 - mmseg - INFO - Iter [2250/8000]\tlr: 1.000e-04, eta: 0:20:17, time: 0.167, data_time: 0.005, memory: 3509, decode.loss_ce.s0: 0.1786, decode.acc_seg.s0: 93.0616, decode.loss_ce.s1: 0.1734, decode.acc_seg.s1: 93.7955, decode.loss_ce.s2: 0.1731, decode.acc_seg.s2: 93.9353, decode.loss_ce.s3: 0.1733, decode.acc_seg.s3: 93.9687, aux.loss_ce: 0.0761, aux.acc_seg: 92.8329, loss: 0.7745, grad_norm: 14.7729\n",
      "2022-11-08 17:00:59,994 - mmseg - INFO - Iter [2300/8000]\tlr: 1.000e-04, eta: 0:20:02, time: 0.171, data_time: 0.005, memory: 3509, decode.loss_ce.s0: 0.3001, decode.acc_seg.s0: 91.7129, decode.loss_ce.s1: 0.2408, decode.acc_seg.s1: 91.7893, decode.loss_ce.s2: 0.2357, decode.acc_seg.s2: 91.7565, decode.loss_ce.s3: 0.2418, decode.acc_seg.s3: 91.7696, aux.loss_ce: 0.1325, aux.acc_seg: 91.4591, loss: 1.1509, grad_norm: 18.3655\n",
      "2022-11-08 17:01:08,099 - mmseg - INFO - Iter [2350/8000]\tlr: 1.000e-04, eta: 0:19:45, time: 0.162, data_time: 0.005, memory: 3509, decode.loss_ce.s0: 0.2779, decode.acc_seg.s0: 90.8587, decode.loss_ce.s1: 0.2543, decode.acc_seg.s1: 90.4823, decode.loss_ce.s2: 0.2586, decode.acc_seg.s2: 90.4090, decode.loss_ce.s3: 0.2642, decode.acc_seg.s3: 90.3058, aux.loss_ce: 0.1175, aux.acc_seg: 89.9566, loss: 1.1725, grad_norm: 21.5323\n",
      "2022-11-08 17:01:16,935 - mmseg - INFO - Saving checkpoint at 2400 iterations\n",
      "2022-11-08 17:01:26,274 - mmseg - INFO - Iter [2400/8000]\tlr: 1.000e-04, eta: 0:19:53, time: 0.363, data_time: 0.005, memory: 3509, decode.loss_ce.s0: 0.3510, decode.acc_seg.s0: 90.6368, decode.loss_ce.s1: 0.3092, decode.acc_seg.s1: 91.6656, decode.loss_ce.s2: 0.3099, decode.acc_seg.s2: 92.1523, decode.loss_ce.s3: 0.3129, decode.acc_seg.s3: 92.2648, aux.loss_ce: 0.1446, aux.acc_seg: 90.1867, loss: 1.4276, grad_norm: 23.7438\n"
     ]
    },
    {
     "name": "stdout",
     "output_type": "stream",
     "text": [
      "[>>>>>>>>>>>>>>>>>>>>>>>>>>>>>] 406/406, 15.9 task/s, elapsed: 26s, ETA:     0s"
     ]
    },
    {
     "name": "stderr",
     "output_type": "stream",
     "text": [
      "2022-11-08 17:01:51,883 - mmseg - INFO - per class results:\n",
      "2022-11-08 17:01:51,886 - mmseg - INFO - \n",
      "+------------+-------+-------+\n",
      "|   Class    |  IoU  |  Acc  |\n",
      "+------------+-------+-------+\n",
      "| background | 86.65 | 92.73 |\n",
      "|   normal   | 88.04 | 93.51 |\n",
      "|   doyeol   |  0.0  |  nan  |\n",
      "|   dobok    |  0.0  |  0.0  |\n",
      "|   gyulju   |  3.36 |  4.36 |\n",
      "|   bujin    |  0.0  |  0.0  |\n",
      "+------------+-------+-------+\n",
      "2022-11-08 17:01:51,888 - mmseg - INFO - Summary:\n",
      "2022-11-08 17:01:51,889 - mmseg - INFO - \n",
      "+-------+-------+-------+\n",
      "|  aAcc |  mIoU |  mAcc |\n",
      "+-------+-------+-------+\n",
      "| 90.49 | 29.68 | 38.12 |\n",
      "+-------+-------+-------+\n",
      "2022-11-08 17:01:51,890 - mmseg - INFO - Iter(val) [406]\taAcc: 0.9049, mIoU: 0.2968, mAcc: 0.3812, IoU.background: 0.8665, IoU.normal: 0.8804, IoU.doyeol: 0.0000, IoU.dobok: 0.0000, IoU.gyulju: 0.0336, IoU.bujin: 0.0000, Acc.background: 0.9273, Acc.normal: 0.9351, Acc.doyeol: nan, Acc.dobok: 0.0000, Acc.gyulju: 0.0436, Acc.bujin: 0.0000\n",
      "2022-11-08 17:02:00,746 - mmseg - INFO - Iter [2450/8000]\tlr: 1.000e-04, eta: 0:20:36, time: 0.689, data_time: 0.518, memory: 3509, decode.loss_ce.s0: 0.3739, decode.acc_seg.s0: 90.5403, decode.loss_ce.s1: 0.2998, decode.acc_seg.s1: 90.7615, decode.loss_ce.s2: 0.2811, decode.acc_seg.s2: 91.4216, decode.loss_ce.s3: 0.2830, decode.acc_seg.s3: 91.6175, aux.loss_ce: 0.1437, aux.acc_seg: 90.5414, loss: 1.3816, grad_norm: 25.5096\n",
      "2022-11-08 17:02:09,315 - mmseg - INFO - Iter [2500/8000]\tlr: 1.000e-04, eta: 0:20:19, time: 0.171, data_time: 0.005, memory: 3509, decode.loss_ce.s0: 0.3593, decode.acc_seg.s0: 90.0791, decode.loss_ce.s1: 0.3425, decode.acc_seg.s1: 90.5507, decode.loss_ce.s2: 0.3326, decode.acc_seg.s2: 90.6771, decode.loss_ce.s3: 0.3281, decode.acc_seg.s3: 90.7226, aux.loss_ce: 0.1499, aux.acc_seg: 89.9157, loss: 1.5124, grad_norm: 35.0592\n",
      "2022-11-08 17:02:17,792 - mmseg - INFO - Iter [2550/8000]\tlr: 1.000e-04, eta: 0:20:03, time: 0.170, data_time: 0.005, memory: 3509, decode.loss_ce.s0: 0.3123, decode.acc_seg.s0: 90.2546, decode.loss_ce.s1: 0.2298, decode.acc_seg.s1: 91.2179, decode.loss_ce.s2: 0.2338, decode.acc_seg.s2: 91.2896, decode.loss_ce.s3: 0.2314, decode.acc_seg.s3: 91.4127, aux.loss_ce: 0.1391, aux.acc_seg: 89.8048, loss: 1.1463, grad_norm: 18.7956\n",
      "2022-11-08 17:02:26,567 - mmseg - INFO - Iter [2600/8000]\tlr: 1.000e-04, eta: 0:19:47, time: 0.175, data_time: 0.005, memory: 3509, decode.loss_ce.s0: 0.3450, decode.acc_seg.s0: 90.0859, decode.loss_ce.s1: 0.3056, decode.acc_seg.s1: 90.2197, decode.loss_ce.s2: 0.2974, decode.acc_seg.s2: 90.1510, decode.loss_ce.s3: 0.2982, decode.acc_seg.s3: 90.2464, aux.loss_ce: 0.1284, aux.acc_seg: 90.1378, loss: 1.3745, grad_norm: 30.8346\n",
      "2022-11-08 17:02:35,313 - mmseg - INFO - Iter [2650/8000]\tlr: 1.000e-04, eta: 0:19:31, time: 0.175, data_time: 0.005, memory: 3509, decode.loss_ce.s0: 0.1610, decode.acc_seg.s0: 93.1019, decode.loss_ce.s1: 0.1623, decode.acc_seg.s1: 92.8888, decode.loss_ce.s2: 0.1641, decode.acc_seg.s2: 92.6384, decode.loss_ce.s3: 0.1660, decode.acc_seg.s3: 92.7083, aux.loss_ce: 0.0648, aux.acc_seg: 92.9014, loss: 0.7182, grad_norm: 21.5894\n",
      "2022-11-08 17:02:44,383 - mmseg - INFO - Iter [2700/8000]\tlr: 1.000e-04, eta: 0:19:17, time: 0.181, data_time: 0.005, memory: 3509, decode.loss_ce.s0: 0.3081, decode.acc_seg.s0: 91.5273, decode.loss_ce.s1: 0.2590, decode.acc_seg.s1: 91.2861, decode.loss_ce.s2: 0.2583, decode.acc_seg.s2: 91.0206, decode.loss_ce.s3: 0.2674, decode.acc_seg.s3: 90.9624, aux.loss_ce: 0.1218, aux.acc_seg: 91.7700, loss: 1.2146, grad_norm: 21.3849\n",
      "2022-11-08 17:02:53,871 - mmseg - INFO - Iter [2750/8000]\tlr: 1.000e-04, eta: 0:19:03, time: 0.190, data_time: 0.005, memory: 3509, decode.loss_ce.s0: 0.2425, decode.acc_seg.s0: 92.8209, decode.loss_ce.s1: 0.2251, decode.acc_seg.s1: 93.4726, decode.loss_ce.s2: 0.2152, decode.acc_seg.s2: 93.6178, decode.loss_ce.s3: 0.2176, decode.acc_seg.s3: 93.5455, aux.loss_ce: 0.1087, aux.acc_seg: 92.3194, loss: 1.0092, grad_norm: 15.3014\n",
      "2022-11-08 17:03:02,968 - mmseg - INFO - Iter [2800/8000]\tlr: 1.000e-04, eta: 0:18:49, time: 0.182, data_time: 0.005, memory: 3509, decode.loss_ce.s0: 0.1933, decode.acc_seg.s0: 92.8211, decode.loss_ce.s1: 0.1912, decode.acc_seg.s1: 92.6019, decode.loss_ce.s2: 0.1777, decode.acc_seg.s2: 92.9788, decode.loss_ce.s3: 0.1753, decode.acc_seg.s3: 93.1213, aux.loss_ce: 0.0859, aux.acc_seg: 92.0114, loss: 0.8233, grad_norm: 25.2715\n",
      "2022-11-08 17:03:11,384 - mmseg - INFO - Iter [2850/8000]\tlr: 1.000e-04, eta: 0:18:34, time: 0.168, data_time: 0.005, memory: 3509, decode.loss_ce.s0: 0.2374, decode.acc_seg.s0: 93.0866, decode.loss_ce.s1: 0.3086, decode.acc_seg.s1: 93.2296, decode.loss_ce.s2: 0.2750, decode.acc_seg.s2: 93.1755, decode.loss_ce.s3: 0.2762, decode.acc_seg.s3: 93.2097, aux.loss_ce: 0.0980, aux.acc_seg: 93.2850, loss: 1.1952, grad_norm: 13.5841\n",
      "2022-11-08 17:03:19,767 - mmseg - INFO - Iter [2900/8000]\tlr: 1.000e-04, eta: 0:18:18, time: 0.168, data_time: 0.005, memory: 3509, decode.loss_ce.s0: 0.2497, decode.acc_seg.s0: 91.4815, decode.loss_ce.s1: 0.2203, decode.acc_seg.s1: 91.8117, decode.loss_ce.s2: 0.2207, decode.acc_seg.s2: 91.8791, decode.loss_ce.s3: 0.2206, decode.acc_seg.s3: 91.9556, aux.loss_ce: 0.1046, aux.acc_seg: 90.6695, loss: 1.0159, grad_norm: 16.5246\n",
      "2022-11-08 17:03:28,018 - mmseg - INFO - Iter [2950/8000]\tlr: 1.000e-04, eta: 0:18:03, time: 0.165, data_time: 0.005, memory: 3509, decode.loss_ce.s0: 0.2890, decode.acc_seg.s0: 90.9521, decode.loss_ce.s1: 0.2490, decode.acc_seg.s1: 91.5587, decode.loss_ce.s2: 0.2478, decode.acc_seg.s2: 91.5072, decode.loss_ce.s3: 0.2586, decode.acc_seg.s3: 91.5096, aux.loss_ce: 0.1228, aux.acc_seg: 90.1913, loss: 1.1672, grad_norm: 31.4705\n",
      "2022-11-08 17:03:36,185 - mmseg - INFO - Iter [3000/8000]\tlr: 1.000e-04, eta: 0:17:48, time: 0.163, data_time: 0.005, memory: 3509, decode.loss_ce.s0: 0.2003, decode.acc_seg.s0: 93.0592, decode.loss_ce.s1: 0.2201, decode.acc_seg.s1: 92.7410, decode.loss_ce.s2: 0.2120, decode.acc_seg.s2: 92.6584, decode.loss_ce.s3: 0.2194, decode.acc_seg.s3: 92.7042, aux.loss_ce: 0.0751, aux.acc_seg: 93.1667, loss: 0.9269, grad_norm: 19.0996\n",
      "2022-11-08 17:03:44,449 - mmseg - INFO - Iter [3050/8000]\tlr: 1.000e-04, eta: 0:17:34, time: 0.165, data_time: 0.005, memory: 3509, decode.loss_ce.s0: 0.2438, decode.acc_seg.s0: 91.6871, decode.loss_ce.s1: 0.2243, decode.acc_seg.s1: 91.6788, decode.loss_ce.s2: 0.2057, decode.acc_seg.s2: 91.7538, decode.loss_ce.s3: 0.2066, decode.acc_seg.s3: 91.7649, aux.loss_ce: 0.1054, aux.acc_seg: 91.1106, loss: 0.9857, grad_norm: 15.7478\n",
      "2022-11-08 17:03:52,989 - mmseg - INFO - Iter [3100/8000]\tlr: 1.000e-04, eta: 0:17:20, time: 0.171, data_time: 0.005, memory: 3509, decode.loss_ce.s0: 0.4245, decode.acc_seg.s0: 90.6736, decode.loss_ce.s1: 0.3274, decode.acc_seg.s1: 90.3782, decode.loss_ce.s2: 0.3215, decode.acc_seg.s2: 90.3659, decode.loss_ce.s3: 0.3280, decode.acc_seg.s3: 90.3365, aux.loss_ce: 0.1698, aux.acc_seg: 90.4673, loss: 1.5712, grad_norm: 21.9523\n",
      "2022-11-08 17:04:01,668 - mmseg - INFO - Iter [3150/8000]\tlr: 1.000e-04, eta: 0:17:06, time: 0.174, data_time: 0.005, memory: 3509, decode.loss_ce.s0: 0.4031, decode.acc_seg.s0: 89.7325, decode.loss_ce.s1: 0.3160, decode.acc_seg.s1: 90.2137, decode.loss_ce.s2: 0.3354, decode.acc_seg.s2: 90.3894, decode.loss_ce.s3: 0.3482, decode.acc_seg.s3: 90.4698, aux.loss_ce: 0.1656, aux.acc_seg: 89.1271, loss: 1.5684, grad_norm: 25.3084\n",
      "2022-11-08 17:04:10,398 - mmseg - INFO - Saving checkpoint at 3200 iterations\n",
      "2022-11-08 17:04:19,054 - mmseg - INFO - Iter [3200/8000]\tlr: 1.000e-04, eta: 0:17:06, time: 0.348, data_time: 0.005, memory: 3509, decode.loss_ce.s0: 0.2074, decode.acc_seg.s0: 91.8955, decode.loss_ce.s1: 0.1972, decode.acc_seg.s1: 91.8297, decode.loss_ce.s2: 0.1927, decode.acc_seg.s2: 92.4760, decode.loss_ce.s3: 0.1930, decode.acc_seg.s3: 92.7077, aux.loss_ce: 0.0819, aux.acc_seg: 91.6569, loss: 0.8723, grad_norm: 10.7019\n"
     ]
    },
    {
     "name": "stdout",
     "output_type": "stream",
     "text": [
      "[>>>>>>>>>>>>>>>>>>>>>>>>>>>>>] 406/406, 16.3 task/s, elapsed: 25s, ETA:     0s"
     ]
    },
    {
     "name": "stderr",
     "output_type": "stream",
     "text": [
      "2022-11-08 17:04:44,041 - mmseg - INFO - per class results:\n",
      "2022-11-08 17:04:44,044 - mmseg - INFO - \n",
      "+------------+-------+-------+\n",
      "|   Class    |  IoU  |  Acc  |\n",
      "+------------+-------+-------+\n",
      "| background | 88.13 | 95.46 |\n",
      "|   normal   | 92.66 | 97.46 |\n",
      "|   doyeol   |  nan  |  nan  |\n",
      "|   dobok    |  0.0  |  0.0  |\n",
      "|   gyulju   | 11.21 |  11.6 |\n",
      "|   bujin    |  0.0  |  0.0  |\n",
      "+------------+-------+-------+\n",
      "2022-11-08 17:04:44,044 - mmseg - INFO - Summary:\n",
      "2022-11-08 17:04:44,046 - mmseg - INFO - \n",
      "+-------+------+-------+\n",
      "|  aAcc | mIoU |  mAcc |\n",
      "+-------+------+-------+\n",
      "| 94.18 | 38.4 | 40.91 |\n",
      "+-------+------+-------+\n",
      "2022-11-08 17:04:44,048 - mmseg - INFO - Iter(val) [406]\taAcc: 0.9418, mIoU: 0.3840, mAcc: 0.4091, IoU.background: 0.8813, IoU.normal: 0.9266, IoU.doyeol: nan, IoU.dobok: 0.0000, IoU.gyulju: 0.1121, IoU.bujin: 0.0000, Acc.background: 0.9546, Acc.normal: 0.9746, Acc.doyeol: nan, Acc.dobok: 0.0000, Acc.gyulju: 0.1160, Acc.bujin: 0.0000\n",
      "2022-11-08 17:04:55,341 - mmseg - INFO - Iter [3250/8000]\tlr: 1.000e-04, eta: 0:17:33, time: 0.726, data_time: 0.547, memory: 3509, decode.loss_ce.s0: 0.2346, decode.acc_seg.s0: 91.7595, decode.loss_ce.s1: 0.2126, decode.acc_seg.s1: 91.9088, decode.loss_ce.s2: 0.2108, decode.acc_seg.s2: 91.9071, decode.loss_ce.s3: 0.2160, decode.acc_seg.s3: 91.8036, aux.loss_ce: 0.0944, aux.acc_seg: 91.6227, loss: 0.9683, grad_norm: 12.7053\n",
      "2022-11-08 17:05:03,843 - mmseg - INFO - Iter [3300/8000]\tlr: 1.000e-04, eta: 0:17:18, time: 0.170, data_time: 0.005, memory: 3509, decode.loss_ce.s0: 0.1787, decode.acc_seg.s0: 93.9758, decode.loss_ce.s1: 0.1825, decode.acc_seg.s1: 94.1495, decode.loss_ce.s2: 0.1815, decode.acc_seg.s2: 94.1059, decode.loss_ce.s3: 0.1842, decode.acc_seg.s3: 94.0344, aux.loss_ce: 0.0734, aux.acc_seg: 93.7726, loss: 0.8002, grad_norm: 25.1933\n",
      "2022-11-08 17:05:12,536 - mmseg - INFO - Iter [3350/8000]\tlr: 1.000e-04, eta: 0:17:03, time: 0.174, data_time: 0.005, memory: 3509, decode.loss_ce.s0: 0.3102, decode.acc_seg.s0: 91.1144, decode.loss_ce.s1: 0.2698, decode.acc_seg.s1: 90.8350, decode.loss_ce.s2: 0.2681, decode.acc_seg.s2: 90.8670, decode.loss_ce.s3: 0.2764, decode.acc_seg.s3: 90.8767, aux.loss_ce: 0.1285, aux.acc_seg: 91.1709, loss: 1.2530, grad_norm: 19.6747\n",
      "2022-11-08 17:05:21,038 - mmseg - INFO - Iter [3400/8000]\tlr: 1.000e-04, eta: 0:16:49, time: 0.170, data_time: 0.004, memory: 3509, decode.loss_ce.s0: 0.2154, decode.acc_seg.s0: 92.1766, decode.loss_ce.s1: 0.1966, decode.acc_seg.s1: 93.0296, decode.loss_ce.s2: 0.1926, decode.acc_seg.s2: 93.1237, decode.loss_ce.s3: 0.1946, decode.acc_seg.s3: 93.0907, aux.loss_ce: 0.0913, aux.acc_seg: 91.8298, loss: 0.8906, grad_norm: 12.2416\n",
      "2022-11-08 17:05:29,268 - mmseg - INFO - Iter [3450/8000]\tlr: 1.000e-04, eta: 0:16:34, time: 0.165, data_time: 0.005, memory: 3509, decode.loss_ce.s0: 0.2080, decode.acc_seg.s0: 93.6185, decode.loss_ce.s1: 0.2024, decode.acc_seg.s1: 93.8424, decode.loss_ce.s2: 0.1794, decode.acc_seg.s2: 93.9750, decode.loss_ce.s3: 0.1827, decode.acc_seg.s3: 93.9908, aux.loss_ce: 0.0835, aux.acc_seg: 93.0829, loss: 0.8560, grad_norm: 14.3162\n",
      "2022-11-08 17:05:38,015 - mmseg - INFO - Iter [3500/8000]\tlr: 1.000e-04, eta: 0:16:21, time: 0.175, data_time: 0.006, memory: 3509, decode.loss_ce.s0: 0.2477, decode.acc_seg.s0: 92.4773, decode.loss_ce.s1: 0.2148, decode.acc_seg.s1: 92.6289, decode.loss_ce.s2: 0.2099, decode.acc_seg.s2: 92.7843, decode.loss_ce.s3: 0.2136, decode.acc_seg.s3: 92.7464, aux.loss_ce: 0.0986, aux.acc_seg: 92.1452, loss: 0.9845, grad_norm: 19.5882\n",
      "2022-11-08 17:05:46,634 - mmseg - INFO - Iter [3550/8000]\tlr: 1.000e-04, eta: 0:16:07, time: 0.172, data_time: 0.006, memory: 3509, decode.loss_ce.s0: 0.3370, decode.acc_seg.s0: 90.6216, decode.loss_ce.s1: 0.2649, decode.acc_seg.s1: 90.6298, decode.loss_ce.s2: 0.2519, decode.acc_seg.s2: 90.8315, decode.loss_ce.s3: 0.2528, decode.acc_seg.s3: 90.7619, aux.loss_ce: 0.1155, aux.acc_seg: 89.9475, loss: 1.2220, grad_norm: 26.3101\n",
      "2022-11-08 17:05:55,472 - mmseg - INFO - Iter [3600/8000]\tlr: 1.000e-04, eta: 0:15:54, time: 0.177, data_time: 0.008, memory: 3509, decode.loss_ce.s0: 0.3867, decode.acc_seg.s0: 90.3848, decode.loss_ce.s1: 0.3457, decode.acc_seg.s1: 90.9711, decode.loss_ce.s2: 0.3370, decode.acc_seg.s2: 91.0722, decode.loss_ce.s3: 0.3322, decode.acc_seg.s3: 90.9886, aux.loss_ce: 0.1733, aux.acc_seg: 90.1932, loss: 1.5751, grad_norm: 18.0263\n",
      "2022-11-08 17:06:04,064 - mmseg - INFO - Iter [3650/8000]\tlr: 1.000e-04, eta: 0:15:40, time: 0.172, data_time: 0.005, memory: 3509, decode.loss_ce.s0: 0.2391, decode.acc_seg.s0: 92.1410, decode.loss_ce.s1: 0.2211, decode.acc_seg.s1: 92.3209, decode.loss_ce.s2: 0.2175, decode.acc_seg.s2: 92.3956, decode.loss_ce.s3: 0.2163, decode.acc_seg.s3: 92.4311, aux.loss_ce: 0.0910, aux.acc_seg: 92.1436, loss: 0.9850, grad_norm: 16.5347\n",
      "2022-11-08 17:06:12,798 - mmseg - INFO - Iter [3700/8000]\tlr: 1.000e-04, eta: 0:15:27, time: 0.175, data_time: 0.005, memory: 3509, decode.loss_ce.s0: 0.5667, decode.acc_seg.s0: 86.0298, decode.loss_ce.s1: 0.4614, decode.acc_seg.s1: 86.5066, decode.loss_ce.s2: 0.4479, decode.acc_seg.s2: 86.5319, decode.loss_ce.s3: 0.4419, decode.acc_seg.s3: 86.3872, aux.loss_ce: 0.2245, aux.acc_seg: 85.2731, loss: 2.1424, grad_norm: 35.5515\n",
      "2022-11-08 17:06:21,693 - mmseg - INFO - Iter [3750/8000]\tlr: 1.000e-04, eta: 0:15:14, time: 0.178, data_time: 0.005, memory: 3509, decode.loss_ce.s0: 0.2746, decode.acc_seg.s0: 90.4131, decode.loss_ce.s1: 0.2686, decode.acc_seg.s1: 90.1097, decode.loss_ce.s2: 0.2731, decode.acc_seg.s2: 90.0758, decode.loss_ce.s3: 0.2768, decode.acc_seg.s3: 90.1358, aux.loss_ce: 0.1094, aux.acc_seg: 90.4635, loss: 1.2026, grad_norm: 16.0985\n",
      "2022-11-08 17:06:30,227 - mmseg - INFO - Iter [3800/8000]\tlr: 1.000e-04, eta: 0:15:01, time: 0.171, data_time: 0.005, memory: 3509, decode.loss_ce.s0: 0.2208, decode.acc_seg.s0: 92.6968, decode.loss_ce.s1: 0.1874, decode.acc_seg.s1: 92.6941, decode.loss_ce.s2: 0.1866, decode.acc_seg.s2: 92.7873, decode.loss_ce.s3: 0.1851, decode.acc_seg.s3: 92.8282, aux.loss_ce: 0.0927, aux.acc_seg: 92.3919, loss: 0.8726, grad_norm: 14.4815\n",
      "2022-11-08 17:06:38,821 - mmseg - INFO - Iter [3850/8000]\tlr: 1.000e-04, eta: 0:14:48, time: 0.172, data_time: 0.005, memory: 3509, decode.loss_ce.s0: 0.1873, decode.acc_seg.s0: 93.3527, decode.loss_ce.s1: 0.1977, decode.acc_seg.s1: 93.3820, decode.loss_ce.s2: 0.2014, decode.acc_seg.s2: 93.4736, decode.loss_ce.s3: 0.2036, decode.acc_seg.s3: 93.4447, aux.loss_ce: 0.0749, aux.acc_seg: 93.0754, loss: 0.8649, grad_norm: 16.8657\n",
      "2022-11-08 17:06:47,384 - mmseg - INFO - Iter [3900/8000]\tlr: 1.000e-04, eta: 0:14:35, time: 0.171, data_time: 0.005, memory: 3509, decode.loss_ce.s0: 0.1906, decode.acc_seg.s0: 93.7276, decode.loss_ce.s1: 0.1562, decode.acc_seg.s1: 94.2055, decode.loss_ce.s2: 0.1513, decode.acc_seg.s2: 94.2164, decode.loss_ce.s3: 0.1519, decode.acc_seg.s3: 94.2231, aux.loss_ce: 0.0760, aux.acc_seg: 93.6575, loss: 0.7260, grad_norm: 11.1461\n",
      "2022-11-08 17:06:55,997 - mmseg - INFO - Iter [3950/8000]\tlr: 1.000e-04, eta: 0:14:22, time: 0.172, data_time: 0.005, memory: 3509, decode.loss_ce.s0: 0.2179, decode.acc_seg.s0: 91.0469, decode.loss_ce.s1: 0.2112, decode.acc_seg.s1: 91.0091, decode.loss_ce.s2: 0.2128, decode.acc_seg.s2: 91.0612, decode.loss_ce.s3: 0.2142, decode.acc_seg.s3: 90.9882, aux.loss_ce: 0.1006, aux.acc_seg: 90.4381, loss: 0.9567, grad_norm: 16.2859\n",
      "2022-11-08 17:07:04,559 - mmseg - INFO - Saving checkpoint at 4000 iterations\n",
      "2022-11-08 17:07:18,671 - mmseg - INFO - Iter [4000/8000]\tlr: 1.000e-04, eta: 0:14:23, time: 0.453, data_time: 0.005, memory: 3509, decode.loss_ce.s0: 0.2741, decode.acc_seg.s0: 92.2278, decode.loss_ce.s1: 0.2167, decode.acc_seg.s1: 92.2287, decode.loss_ce.s2: 0.2079, decode.acc_seg.s2: 92.3751, decode.loss_ce.s3: 0.2057, decode.acc_seg.s3: 92.4738, aux.loss_ce: 0.1172, aux.acc_seg: 91.9178, loss: 1.0217, grad_norm: 13.3442\n"
     ]
    },
    {
     "name": "stdout",
     "output_type": "stream",
     "text": [
      "[>>>>>>>>>>>>>>>>>>>>>>>>>>>>>] 406/406, 15.5 task/s, elapsed: 26s, ETA:     0s"
     ]
    },
    {
     "name": "stderr",
     "output_type": "stream",
     "text": [
      "2022-11-08 17:07:44,883 - mmseg - INFO - per class results:\n",
      "2022-11-08 17:07:44,886 - mmseg - INFO - \n",
      "+------------+-------+-------+\n",
      "|   Class    |  IoU  |  Acc  |\n",
      "+------------+-------+-------+\n",
      "| background | 84.58 | 88.91 |\n",
      "|   normal   | 91.69 | 98.31 |\n",
      "|   doyeol   |  nan  |  nan  |\n",
      "|   dobok    |  0.0  |  0.0  |\n",
      "|   gyulju   | 14.41 |  15.6 |\n",
      "|   bujin    |  0.0  |  0.0  |\n",
      "+------------+-------+-------+\n",
      "2022-11-08 17:07:44,887 - mmseg - INFO - Summary:\n",
      "2022-11-08 17:07:44,888 - mmseg - INFO - \n",
      "+-------+-------+-------+\n",
      "|  aAcc |  mIoU |  mAcc |\n",
      "+-------+-------+-------+\n",
      "| 93.34 | 38.14 | 40.56 |\n",
      "+-------+-------+-------+\n",
      "2022-11-08 17:07:44,889 - mmseg - INFO - Iter(val) [406]\taAcc: 0.9334, mIoU: 0.3814, mAcc: 0.4056, IoU.background: 0.8458, IoU.normal: 0.9169, IoU.doyeol: nan, IoU.dobok: 0.0000, IoU.gyulju: 0.1441, IoU.bujin: 0.0000, Acc.background: 0.8891, Acc.normal: 0.9831, Acc.doyeol: nan, Acc.dobok: 0.0000, Acc.gyulju: 0.1560, Acc.bujin: 0.0000\n",
      "2022-11-08 17:07:53,435 - mmseg - INFO - Iter [4050/8000]\tlr: 1.000e-04, eta: 0:14:36, time: 0.695, data_time: 0.529, memory: 3509, decode.loss_ce.s0: 0.3147, decode.acc_seg.s0: 91.8505, decode.loss_ce.s1: 0.3100, decode.acc_seg.s1: 92.0446, decode.loss_ce.s2: 0.3160, decode.acc_seg.s2: 92.1780, decode.loss_ce.s3: 0.3112, decode.acc_seg.s3: 92.0240, aux.loss_ce: 0.1329, aux.acc_seg: 91.6768, loss: 1.3849, grad_norm: 14.9019\n",
      "2022-11-08 17:08:01,926 - mmseg - INFO - Iter [4100/8000]\tlr: 1.000e-04, eta: 0:14:22, time: 0.170, data_time: 0.005, memory: 3509, decode.loss_ce.s0: 0.4030, decode.acc_seg.s0: 89.8591, decode.loss_ce.s1: 0.3412, decode.acc_seg.s1: 89.9212, decode.loss_ce.s2: 0.3400, decode.acc_seg.s2: 89.9859, decode.loss_ce.s3: 0.3362, decode.acc_seg.s3: 89.9362, aux.loss_ce: 0.1532, aux.acc_seg: 89.9322, loss: 1.5735, grad_norm: 20.3490\n",
      "2022-11-08 17:08:10,510 - mmseg - INFO - Iter [4150/8000]\tlr: 1.000e-04, eta: 0:14:09, time: 0.172, data_time: 0.005, memory: 3509, decode.loss_ce.s0: 0.3279, decode.acc_seg.s0: 91.4337, decode.loss_ce.s1: 0.3077, decode.acc_seg.s1: 91.5604, decode.loss_ce.s2: 0.3100, decode.acc_seg.s2: 91.6730, decode.loss_ce.s3: 0.3108, decode.acc_seg.s3: 91.7045, aux.loss_ce: 0.1353, aux.acc_seg: 90.9771, loss: 1.3917, grad_norm: 15.1356\n",
      "2022-11-08 17:08:19,129 - mmseg - INFO - Iter [4200/8000]\tlr: 1.000e-04, eta: 0:13:56, time: 0.172, data_time: 0.005, memory: 3509, decode.loss_ce.s0: 0.3740, decode.acc_seg.s0: 89.2434, decode.loss_ce.s1: 0.3927, decode.acc_seg.s1: 89.3575, decode.loss_ce.s2: 0.3530, decode.acc_seg.s2: 89.5822, decode.loss_ce.s3: 0.3459, decode.acc_seg.s3: 89.5686, aux.loss_ce: 0.1655, aux.acc_seg: 88.7393, loss: 1.6311, grad_norm: 22.1881\n",
      "2022-11-08 17:08:27,783 - mmseg - INFO - Iter [4250/8000]\tlr: 1.000e-04, eta: 0:13:43, time: 0.173, data_time: 0.005, memory: 3509, decode.loss_ce.s0: 0.3060, decode.acc_seg.s0: 91.6921, decode.loss_ce.s1: 0.2817, decode.acc_seg.s1: 91.8571, decode.loss_ce.s2: 0.2732, decode.acc_seg.s2: 91.7756, decode.loss_ce.s3: 0.2607, decode.acc_seg.s3: 91.7484, aux.loss_ce: 0.1239, aux.acc_seg: 90.6177, loss: 1.2455, grad_norm: 21.9643\n",
      "2022-11-08 17:08:36,187 - mmseg - INFO - Iter [4300/8000]\tlr: 1.000e-04, eta: 0:13:29, time: 0.168, data_time: 0.005, memory: 3509, decode.loss_ce.s0: 0.2490, decode.acc_seg.s0: 91.8600, decode.loss_ce.s1: 0.2347, decode.acc_seg.s1: 92.3823, decode.loss_ce.s2: 0.2314, decode.acc_seg.s2: 92.4627, decode.loss_ce.s3: 0.2429, decode.acc_seg.s3: 92.4207, aux.loss_ce: 0.0909, aux.acc_seg: 92.1124, loss: 1.0489, grad_norm: 14.8660\n",
      "2022-11-08 17:08:44,743 - mmseg - INFO - Iter [4350/8000]\tlr: 1.000e-04, eta: 0:13:17, time: 0.171, data_time: 0.005, memory: 3509, decode.loss_ce.s0: 0.1661, decode.acc_seg.s0: 94.7719, decode.loss_ce.s1: 0.1504, decode.acc_seg.s1: 94.7704, decode.loss_ce.s2: 0.1514, decode.acc_seg.s2: 94.7479, decode.loss_ce.s3: 0.1528, decode.acc_seg.s3: 94.7201, aux.loss_ce: 0.0697, aux.acc_seg: 94.5787, loss: 0.6903, grad_norm: 9.0113\n",
      "2022-11-08 17:08:53,447 - mmseg - INFO - Iter [4400/8000]\tlr: 1.000e-04, eta: 0:13:04, time: 0.174, data_time: 0.005, memory: 3509, decode.loss_ce.s0: 0.1854, decode.acc_seg.s0: 94.1717, decode.loss_ce.s1: 0.1719, decode.acc_seg.s1: 94.6281, decode.loss_ce.s2: 0.1706, decode.acc_seg.s2: 94.6987, decode.loss_ce.s3: 0.1779, decode.acc_seg.s3: 94.6672, aux.loss_ce: 0.0733, aux.acc_seg: 94.0809, loss: 0.7789, grad_norm: 9.6004\n",
      "2022-11-08 17:09:02,088 - mmseg - INFO - Iter [4450/8000]\tlr: 1.000e-04, eta: 0:12:51, time: 0.173, data_time: 0.005, memory: 3509, decode.loss_ce.s0: 0.3074, decode.acc_seg.s0: 92.6618, decode.loss_ce.s1: 0.2380, decode.acc_seg.s1: 92.6071, decode.loss_ce.s2: 0.2365, decode.acc_seg.s2: 92.4831, decode.loss_ce.s3: 0.2392, decode.acc_seg.s3: 92.5417, aux.loss_ce: 0.1250, aux.acc_seg: 92.3767, loss: 1.1461, grad_norm: 15.4660\n",
      "2022-11-08 17:09:10,848 - mmseg - INFO - Iter [4500/8000]\tlr: 1.000e-04, eta: 0:12:39, time: 0.175, data_time: 0.005, memory: 3509, decode.loss_ce.s0: 0.2915, decode.acc_seg.s0: 92.0687, decode.loss_ce.s1: 0.2244, decode.acc_seg.s1: 92.5843, decode.loss_ce.s2: 0.2197, decode.acc_seg.s2: 92.6292, decode.loss_ce.s3: 0.2193, decode.acc_seg.s3: 92.7410, aux.loss_ce: 0.1102, aux.acc_seg: 91.9729, loss: 1.0651, grad_norm: 13.7193\n",
      "2022-11-08 17:09:19,285 - mmseg - INFO - Iter [4550/8000]\tlr: 1.000e-04, eta: 0:12:26, time: 0.169, data_time: 0.005, memory: 3509, decode.loss_ce.s0: 0.2550, decode.acc_seg.s0: 92.0485, decode.loss_ce.s1: 0.2469, decode.acc_seg.s1: 91.9822, decode.loss_ce.s2: 0.2377, decode.acc_seg.s2: 92.0780, decode.loss_ce.s3: 0.2405, decode.acc_seg.s3: 92.1266, aux.loss_ce: 0.0908, aux.acc_seg: 91.7174, loss: 1.0709, grad_norm: 20.3865\n",
      "2022-11-08 17:09:28,110 - mmseg - INFO - Iter [4600/8000]\tlr: 1.000e-04, eta: 0:12:14, time: 0.176, data_time: 0.005, memory: 3509, decode.loss_ce.s0: 0.2258, decode.acc_seg.s0: 92.9728, decode.loss_ce.s1: 0.2342, decode.acc_seg.s1: 92.3249, decode.loss_ce.s2: 0.2218, decode.acc_seg.s2: 92.4886, decode.loss_ce.s3: 0.2201, decode.acc_seg.s3: 92.5051, aux.loss_ce: 0.1079, aux.acc_seg: 92.9132, loss: 1.0097, grad_norm: 14.3787\n",
      "2022-11-08 17:09:36,739 - mmseg - INFO - Iter [4650/8000]\tlr: 1.000e-04, eta: 0:12:01, time: 0.173, data_time: 0.005, memory: 3509, decode.loss_ce.s0: 0.3261, decode.acc_seg.s0: 91.8295, decode.loss_ce.s1: 0.2677, decode.acc_seg.s1: 91.7083, decode.loss_ce.s2: 0.2544, decode.acc_seg.s2: 91.8212, decode.loss_ce.s3: 0.2566, decode.acc_seg.s3: 91.8365, aux.loss_ce: 0.1350, aux.acc_seg: 92.0312, loss: 1.2397, grad_norm: 18.2265\n",
      "2022-11-08 17:09:45,520 - mmseg - INFO - Iter [4700/8000]\tlr: 1.000e-04, eta: 0:11:49, time: 0.176, data_time: 0.005, memory: 3509, decode.loss_ce.s0: 0.3016, decode.acc_seg.s0: 92.4377, decode.loss_ce.s1: 0.2547, decode.acc_seg.s1: 92.5056, decode.loss_ce.s2: 0.2536, decode.acc_seg.s2: 92.4704, decode.loss_ce.s3: 0.2580, decode.acc_seg.s3: 92.4332, aux.loss_ce: 0.1296, aux.acc_seg: 91.8042, loss: 1.1976, grad_norm: 15.9128\n",
      "2022-11-08 17:09:53,653 - mmseg - INFO - Iter [4750/8000]\tlr: 1.000e-04, eta: 0:11:37, time: 0.163, data_time: 0.005, memory: 3509, decode.loss_ce.s0: 0.2811, decode.acc_seg.s0: 91.9194, decode.loss_ce.s1: 0.2651, decode.acc_seg.s1: 92.0667, decode.loss_ce.s2: 0.2603, decode.acc_seg.s2: 91.9902, decode.loss_ce.s3: 0.2559, decode.acc_seg.s3: 91.9851, aux.loss_ce: 0.1188, aux.acc_seg: 91.9664, loss: 1.1812, grad_norm: 18.1667\n",
      "2022-11-08 17:10:02,008 - mmseg - INFO - Saving checkpoint at 4800 iterations\n",
      "2022-11-08 17:10:13,228 - mmseg - INFO - Iter [4800/8000]\tlr: 1.000e-04, eta: 0:11:32, time: 0.391, data_time: 0.005, memory: 3509, decode.loss_ce.s0: 0.2621, decode.acc_seg.s0: 92.7298, decode.loss_ce.s1: 0.2019, decode.acc_seg.s1: 92.7774, decode.loss_ce.s2: 0.1968, decode.acc_seg.s2: 92.7677, decode.loss_ce.s3: 0.1994, decode.acc_seg.s3: 92.7066, aux.loss_ce: 0.1134, aux.acc_seg: 92.3952, loss: 0.9736, grad_norm: 10.5726\n"
     ]
    },
    {
     "name": "stdout",
     "output_type": "stream",
     "text": [
      "[>>>>>>>>>>>>>>>>>>>>>>>>>>>>>] 406/406, 15.1 task/s, elapsed: 27s, ETA:     0s"
     ]
    },
    {
     "name": "stderr",
     "output_type": "stream",
     "text": [
      "2022-11-08 17:10:40,123 - mmseg - INFO - per class results:\n",
      "2022-11-08 17:10:40,125 - mmseg - INFO - \n",
      "+------------+-------+-------+\n",
      "|   Class    |  IoU  |  Acc  |\n",
      "+------------+-------+-------+\n",
      "| background | 86.73 |  92.7 |\n",
      "|   normal   | 92.21 | 97.36 |\n",
      "|   doyeol   |  nan  |  nan  |\n",
      "|   dobok    |  0.0  |  0.0  |\n",
      "|   gyulju   | 17.29 | 20.82 |\n",
      "|   bujin    |  2.95 |  3.52 |\n",
      "+------------+-------+-------+\n",
      "2022-11-08 17:10:40,125 - mmseg - INFO - Summary:\n",
      "2022-11-08 17:10:40,127 - mmseg - INFO - \n",
      "+-------+-------+-------+\n",
      "|  aAcc |  mIoU |  mAcc |\n",
      "+-------+-------+-------+\n",
      "| 93.67 | 39.84 | 42.88 |\n",
      "+-------+-------+-------+\n",
      "2022-11-08 17:10:40,130 - mmseg - INFO - Iter(val) [406]\taAcc: 0.9367, mIoU: 0.3984, mAcc: 0.4288, IoU.background: 0.8673, IoU.normal: 0.9221, IoU.doyeol: nan, IoU.dobok: 0.0000, IoU.gyulju: 0.1729, IoU.bujin: 0.0295, Acc.background: 0.9270, Acc.normal: 0.9736, Acc.doyeol: nan, Acc.dobok: 0.0000, Acc.gyulju: 0.2082, Acc.bujin: 0.0352\n",
      "2022-11-08 17:10:48,774 - mmseg - INFO - Iter [4850/8000]\tlr: 1.000e-04, eta: 0:11:37, time: 0.711, data_time: 0.543, memory: 3509, decode.loss_ce.s0: 0.2141, decode.acc_seg.s0: 91.6124, decode.loss_ce.s1: 0.1963, decode.acc_seg.s1: 91.7564, decode.loss_ce.s2: 0.2046, decode.acc_seg.s2: 91.4426, decode.loss_ce.s3: 0.1981, decode.acc_seg.s3: 91.7511, aux.loss_ce: 0.0855, aux.acc_seg: 91.6128, loss: 0.8986, grad_norm: 13.4627\n",
      "2022-11-08 17:10:59,107 - mmseg - INFO - Iter [4900/8000]\tlr: 1.000e-04, eta: 0:11:25, time: 0.207, data_time: 0.047, memory: 3509, decode.loss_ce.s0: 0.3449, decode.acc_seg.s0: 92.5199, decode.loss_ce.s1: 0.2902, decode.acc_seg.s1: 92.4386, decode.loss_ce.s2: 0.2832, decode.acc_seg.s2: 92.3710, decode.loss_ce.s3: 0.2927, decode.acc_seg.s3: 92.4060, aux.loss_ce: 0.1414, aux.acc_seg: 92.3808, loss: 1.3524, grad_norm: 39.3869\n",
      "2022-11-08 17:11:07,720 - mmseg - INFO - Iter [4950/8000]\tlr: 1.000e-04, eta: 0:11:13, time: 0.172, data_time: 0.005, memory: 3509, decode.loss_ce.s0: 0.1258, decode.acc_seg.s0: 95.2728, decode.loss_ce.s1: 0.1172, decode.acc_seg.s1: 95.5311, decode.loss_ce.s2: 0.1138, decode.acc_seg.s2: 95.6548, decode.loss_ce.s3: 0.1145, decode.acc_seg.s3: 95.5683, aux.loss_ce: 0.0550, aux.acc_seg: 94.5692, loss: 0.5263, grad_norm: 12.7209\n",
      "2022-11-08 17:11:16,552 - mmseg - INFO - Iter [5000/8000]\tlr: 1.000e-04, eta: 0:11:01, time: 0.177, data_time: 0.005, memory: 3509, decode.loss_ce.s0: 0.2268, decode.acc_seg.s0: 92.5805, decode.loss_ce.s1: 0.2196, decode.acc_seg.s1: 92.9475, decode.loss_ce.s2: 0.2192, decode.acc_seg.s2: 93.0772, decode.loss_ce.s3: 0.2172, decode.acc_seg.s3: 93.0924, aux.loss_ce: 0.0914, aux.acc_seg: 92.2809, loss: 0.9743, grad_norm: 19.4415\n",
      "2022-11-08 17:11:25,594 - mmseg - INFO - Iter [5050/8000]\tlr: 1.000e-04, eta: 0:10:48, time: 0.181, data_time: 0.005, memory: 3509, decode.loss_ce.s0: 0.2231, decode.acc_seg.s0: 92.9485, decode.loss_ce.s1: 0.2049, decode.acc_seg.s1: 93.0023, decode.loss_ce.s2: 0.2085, decode.acc_seg.s2: 92.9399, decode.loss_ce.s3: 0.2152, decode.acc_seg.s3: 92.8046, aux.loss_ce: 0.0895, aux.acc_seg: 93.2142, loss: 0.9411, grad_norm: 11.1292\n",
      "2022-11-08 17:11:34,050 - mmseg - INFO - Iter [5100/8000]\tlr: 1.000e-04, eta: 0:10:36, time: 0.169, data_time: 0.005, memory: 3509, decode.loss_ce.s0: 0.2381, decode.acc_seg.s0: 92.9010, decode.loss_ce.s1: 0.2556, decode.acc_seg.s1: 92.2596, decode.loss_ce.s2: 0.2560, decode.acc_seg.s2: 92.1926, decode.loss_ce.s3: 0.2590, decode.acc_seg.s3: 92.3000, aux.loss_ce: 0.0967, aux.acc_seg: 92.8681, loss: 1.1054, grad_norm: 17.5115\n",
      "2022-11-08 17:11:42,735 - mmseg - INFO - Iter [5150/8000]\tlr: 1.000e-04, eta: 0:10:24, time: 0.174, data_time: 0.005, memory: 3509, decode.loss_ce.s0: 0.3714, decode.acc_seg.s0: 90.7983, decode.loss_ce.s1: 0.3089, decode.acc_seg.s1: 90.2839, decode.loss_ce.s2: 0.3031, decode.acc_seg.s2: 90.3543, decode.loss_ce.s3: 0.3092, decode.acc_seg.s3: 90.3217, aux.loss_ce: 0.1593, aux.acc_seg: 90.6003, loss: 1.4519, grad_norm: 18.4315\n",
      "2022-11-08 17:11:51,396 - mmseg - INFO - Iter [5200/8000]\tlr: 1.000e-04, eta: 0:10:11, time: 0.173, data_time: 0.005, memory: 3509, decode.loss_ce.s0: 0.2247, decode.acc_seg.s0: 92.8168, decode.loss_ce.s1: 0.2047, decode.acc_seg.s1: 92.6433, decode.loss_ce.s2: 0.1992, decode.acc_seg.s2: 92.6591, decode.loss_ce.s3: 0.2040, decode.acc_seg.s3: 92.5661, aux.loss_ce: 0.0940, aux.acc_seg: 92.5117, loss: 0.9265, grad_norm: 16.3295\n",
      "2022-11-08 17:11:59,837 - mmseg - INFO - Iter [5250/8000]\tlr: 1.000e-04, eta: 0:09:59, time: 0.169, data_time: 0.004, memory: 3509, decode.loss_ce.s0: 0.2834, decode.acc_seg.s0: 90.8416, decode.loss_ce.s1: 0.2632, decode.acc_seg.s1: 91.0923, decode.loss_ce.s2: 0.2610, decode.acc_seg.s2: 91.0532, decode.loss_ce.s3: 0.2692, decode.acc_seg.s3: 91.0207, aux.loss_ce: 0.1266, aux.acc_seg: 89.6676, loss: 1.2035, grad_norm: 21.9453\n",
      "2022-11-08 17:12:08,744 - mmseg - INFO - Iter [5300/8000]\tlr: 1.000e-04, eta: 0:09:47, time: 0.178, data_time: 0.005, memory: 3509, decode.loss_ce.s0: 0.1987, decode.acc_seg.s0: 92.4864, decode.loss_ce.s1: 0.1835, decode.acc_seg.s1: 92.1731, decode.loss_ce.s2: 0.1776, decode.acc_seg.s2: 92.2547, decode.loss_ce.s3: 0.1793, decode.acc_seg.s3: 92.2977, aux.loss_ce: 0.0882, aux.acc_seg: 92.0364, loss: 0.8274, grad_norm: 15.6537\n",
      "2022-11-08 17:12:17,000 - mmseg - INFO - Iter [5350/8000]\tlr: 1.000e-04, eta: 0:09:35, time: 0.165, data_time: 0.005, memory: 3509, decode.loss_ce.s0: 0.1976, decode.acc_seg.s0: 92.9716, decode.loss_ce.s1: 0.1944, decode.acc_seg.s1: 93.1731, decode.loss_ce.s2: 0.1992, decode.acc_seg.s2: 93.2896, decode.loss_ce.s3: 0.2042, decode.acc_seg.s3: 93.1831, aux.loss_ce: 0.0808, aux.acc_seg: 93.0485, loss: 0.8761, grad_norm: 13.3996\n",
      "2022-11-08 17:12:25,376 - mmseg - INFO - Iter [5400/8000]\tlr: 1.000e-04, eta: 0:09:23, time: 0.168, data_time: 0.005, memory: 3509, decode.loss_ce.s0: 0.2262, decode.acc_seg.s0: 93.3212, decode.loss_ce.s1: 0.1938, decode.acc_seg.s1: 93.5134, decode.loss_ce.s2: 0.1866, decode.acc_seg.s2: 93.6363, decode.loss_ce.s3: 0.1891, decode.acc_seg.s3: 93.6694, aux.loss_ce: 0.0886, aux.acc_seg: 93.1575, loss: 0.8842, grad_norm: 12.6199\n",
      "2022-11-08 17:12:33,843 - mmseg - INFO - Iter [5450/8000]\tlr: 1.000e-04, eta: 0:09:11, time: 0.169, data_time: 0.005, memory: 3509, decode.loss_ce.s0: 0.2249, decode.acc_seg.s0: 92.2255, decode.loss_ce.s1: 0.2143, decode.acc_seg.s1: 92.3941, decode.loss_ce.s2: 0.2066, decode.acc_seg.s2: 92.6086, decode.loss_ce.s3: 0.2068, decode.acc_seg.s3: 92.5893, aux.loss_ce: 0.0890, aux.acc_seg: 92.2289, loss: 0.9416, grad_norm: 17.7405\n",
      "2022-11-08 17:12:42,567 - mmseg - INFO - Iter [5500/8000]\tlr: 1.000e-04, eta: 0:08:59, time: 0.174, data_time: 0.005, memory: 3509, decode.loss_ce.s0: 0.2869, decode.acc_seg.s0: 92.0984, decode.loss_ce.s1: 0.2531, decode.acc_seg.s1: 92.7451, decode.loss_ce.s2: 0.2503, decode.acc_seg.s2: 92.7842, decode.loss_ce.s3: 0.2560, decode.acc_seg.s3: 92.7284, aux.loss_ce: 0.1111, aux.acc_seg: 91.9390, loss: 1.1574, grad_norm: 15.1597\n",
      "2022-11-08 17:12:51,295 - mmseg - INFO - Iter [5550/8000]\tlr: 1.000e-04, eta: 0:08:48, time: 0.175, data_time: 0.005, memory: 3509, decode.loss_ce.s0: 0.2328, decode.acc_seg.s0: 92.5904, decode.loss_ce.s1: 0.2187, decode.acc_seg.s1: 92.7108, decode.loss_ce.s2: 0.2220, decode.acc_seg.s2: 92.7241, decode.loss_ce.s3: 0.2284, decode.acc_seg.s3: 92.6816, aux.loss_ce: 0.0945, aux.acc_seg: 92.0639, loss: 0.9964, grad_norm: 18.1559\n",
      "2022-11-08 17:12:59,973 - mmseg - INFO - Saving checkpoint at 5600 iterations\n",
      "2022-11-08 17:13:11,889 - mmseg - INFO - Iter [5600/8000]\tlr: 1.000e-04, eta: 0:08:41, time: 0.412, data_time: 0.005, memory: 3509, decode.loss_ce.s0: 0.3081, decode.acc_seg.s0: 91.4729, decode.loss_ce.s1: 0.2546, decode.acc_seg.s1: 91.7604, decode.loss_ce.s2: 0.2518, decode.acc_seg.s2: 91.8756, decode.loss_ce.s3: 0.2487, decode.acc_seg.s3: 91.7792, aux.loss_ce: 0.1249, aux.acc_seg: 91.3637, loss: 1.1881, grad_norm: 25.8874\n"
     ]
    },
    {
     "name": "stdout",
     "output_type": "stream",
     "text": [
      "[>>>>>>>>>>>>>>>>>>>>>>>>>>>>>] 406/406, 15.2 task/s, elapsed: 27s, ETA:     0s"
     ]
    },
    {
     "name": "stderr",
     "output_type": "stream",
     "text": [
      "2022-11-08 17:13:38,547 - mmseg - INFO - per class results:\n",
      "2022-11-08 17:13:38,549 - mmseg - INFO - \n",
      "+------------+-------+-------+\n",
      "|   Class    |  IoU  |  Acc  |\n",
      "+------------+-------+-------+\n",
      "| background | 86.67 | 93.05 |\n",
      "|   normal   | 92.16 | 97.66 |\n",
      "|   doyeol   |  nan  |  nan  |\n",
      "|   dobok    |  0.0  |  0.0  |\n",
      "|   gyulju   | 10.15 | 10.85 |\n",
      "|   bujin    |  0.0  |  0.0  |\n",
      "+------------+-------+-------+\n",
      "2022-11-08 17:13:38,550 - mmseg - INFO - Summary:\n",
      "2022-11-08 17:13:38,550 - mmseg - INFO - \n",
      "+-------+------+-------+\n",
      "|  aAcc | mIoU |  mAcc |\n",
      "+-------+------+-------+\n",
      "| 93.74 | 37.8 | 40.31 |\n",
      "+-------+------+-------+\n",
      "2022-11-08 17:13:38,551 - mmseg - INFO - Iter(val) [406]\taAcc: 0.9374, mIoU: 0.3780, mAcc: 0.4031, IoU.background: 0.8667, IoU.normal: 0.9216, IoU.doyeol: nan, IoU.dobok: 0.0000, IoU.gyulju: 0.1015, IoU.bujin: 0.0000, Acc.background: 0.9305, Acc.normal: 0.9766, Acc.doyeol: nan, Acc.dobok: 0.0000, Acc.gyulju: 0.1085, Acc.bujin: 0.0000\n",
      "2022-11-08 17:13:47,295 - mmseg - INFO - Iter [5650/8000]\tlr: 1.000e-04, eta: 0:08:40, time: 0.708, data_time: 0.538, memory: 3509, decode.loss_ce.s0: 0.3220, decode.acc_seg.s0: 91.0077, decode.loss_ce.s1: 0.3141, decode.acc_seg.s1: 90.5539, decode.loss_ce.s2: 0.2913, decode.acc_seg.s2: 90.5788, decode.loss_ce.s3: 0.2916, decode.acc_seg.s3: 90.5175, aux.loss_ce: 0.1488, aux.acc_seg: 90.1980, loss: 1.3679, grad_norm: 20.2077\n",
      "2022-11-08 17:13:55,567 - mmseg - INFO - Iter [5700/8000]\tlr: 1.000e-04, eta: 0:08:28, time: 0.165, data_time: 0.005, memory: 3509, decode.loss_ce.s0: 0.2187, decode.acc_seg.s0: 93.4451, decode.loss_ce.s1: 0.2047, decode.acc_seg.s1: 93.1332, decode.loss_ce.s2: 0.1879, decode.acc_seg.s2: 93.4088, decode.loss_ce.s3: 0.1907, decode.acc_seg.s3: 93.4288, aux.loss_ce: 0.0907, aux.acc_seg: 93.0295, loss: 0.8926, grad_norm: 13.7291\n",
      "2022-11-08 17:14:03,928 - mmseg - INFO - Iter [5750/8000]\tlr: 1.000e-04, eta: 0:08:16, time: 0.167, data_time: 0.005, memory: 3509, decode.loss_ce.s0: 0.2429, decode.acc_seg.s0: 92.1111, decode.loss_ce.s1: 0.2290, decode.acc_seg.s1: 92.0453, decode.loss_ce.s2: 0.2238, decode.acc_seg.s2: 92.0120, decode.loss_ce.s3: 0.2303, decode.acc_seg.s3: 92.0280, aux.loss_ce: 0.0988, aux.acc_seg: 91.6813, loss: 1.0248, grad_norm: 14.8648\n",
      "2022-11-08 17:14:12,486 - mmseg - INFO - Iter [5800/8000]\tlr: 1.000e-04, eta: 0:08:04, time: 0.171, data_time: 0.005, memory: 3509, decode.loss_ce.s0: 0.3200, decode.acc_seg.s0: 90.8321, decode.loss_ce.s1: 0.2588, decode.acc_seg.s1: 90.9733, decode.loss_ce.s2: 0.2483, decode.acc_seg.s2: 91.0067, decode.loss_ce.s3: 0.2568, decode.acc_seg.s3: 91.0229, aux.loss_ce: 0.1336, aux.acc_seg: 90.8486, loss: 1.2175, grad_norm: 23.2555\n",
      "2022-11-08 17:14:20,902 - mmseg - INFO - Iter [5850/8000]\tlr: 1.000e-04, eta: 0:07:52, time: 0.168, data_time: 0.005, memory: 3509, decode.loss_ce.s0: 0.2719, decode.acc_seg.s0: 92.3800, decode.loss_ce.s1: 0.2687, decode.acc_seg.s1: 92.6470, decode.loss_ce.s2: 0.2692, decode.acc_seg.s2: 92.6625, decode.loss_ce.s3: 0.2732, decode.acc_seg.s3: 92.6193, aux.loss_ce: 0.1133, aux.acc_seg: 92.0989, loss: 1.1962, grad_norm: 41.2952\n",
      "2022-11-08 17:14:29,661 - mmseg - INFO - Iter [5900/8000]\tlr: 1.000e-04, eta: 0:07:40, time: 0.175, data_time: 0.005, memory: 3509, decode.loss_ce.s0: 0.3192, decode.acc_seg.s0: 91.7496, decode.loss_ce.s1: 0.2933, decode.acc_seg.s1: 91.9667, decode.loss_ce.s2: 0.3006, decode.acc_seg.s2: 91.8942, decode.loss_ce.s3: 0.2952, decode.acc_seg.s3: 91.8450, aux.loss_ce: 0.1279, aux.acc_seg: 91.2246, loss: 1.3363, grad_norm: 17.2216\n",
      "2022-11-08 17:14:38,131 - mmseg - INFO - Iter [5950/8000]\tlr: 1.000e-04, eta: 0:07:29, time: 0.169, data_time: 0.005, memory: 3509, decode.loss_ce.s0: 0.2942, decode.acc_seg.s0: 91.0867, decode.loss_ce.s1: 0.2543, decode.acc_seg.s1: 91.1096, decode.loss_ce.s2: 0.2480, decode.acc_seg.s2: 91.0192, decode.loss_ce.s3: 0.2470, decode.acc_seg.s3: 90.9860, aux.loss_ce: 0.1224, aux.acc_seg: 90.6695, loss: 1.1660, grad_norm: 19.6058\n",
      "2022-11-08 17:14:46,369 - mmseg - INFO - Iter [6000/8000]\tlr: 1.000e-04, eta: 0:07:17, time: 0.165, data_time: 0.005, memory: 3509, decode.loss_ce.s0: 0.2610, decode.acc_seg.s0: 91.9018, decode.loss_ce.s1: 0.2417, decode.acc_seg.s1: 92.0023, decode.loss_ce.s2: 0.2438, decode.acc_seg.s2: 92.0194, decode.loss_ce.s3: 0.2470, decode.acc_seg.s3: 91.8293, aux.loss_ce: 0.1207, aux.acc_seg: 91.5424, loss: 1.1143, grad_norm: 18.9992\n",
      "2022-11-08 17:14:54,844 - mmseg - INFO - Iter [6050/8000]\tlr: 1.000e-04, eta: 0:07:05, time: 0.169, data_time: 0.005, memory: 3509, decode.loss_ce.s0: 0.2651, decode.acc_seg.s0: 90.6068, decode.loss_ce.s1: 0.2161, decode.acc_seg.s1: 91.3635, decode.loss_ce.s2: 0.2113, decode.acc_seg.s2: 91.4920, decode.loss_ce.s3: 0.2120, decode.acc_seg.s3: 91.4361, aux.loss_ce: 0.1049, aux.acc_seg: 90.1378, loss: 1.0094, grad_norm: 16.8827\n",
      "2022-11-08 17:15:03,269 - mmseg - INFO - Iter [6100/8000]\tlr: 1.000e-04, eta: 0:06:53, time: 0.168, data_time: 0.005, memory: 3509, decode.loss_ce.s0: 0.1774, decode.acc_seg.s0: 94.2040, decode.loss_ce.s1: 0.1637, decode.acc_seg.s1: 94.5840, decode.loss_ce.s2: 0.1564, decode.acc_seg.s2: 94.7949, decode.loss_ce.s3: 0.1557, decode.acc_seg.s3: 94.8649, aux.loss_ce: 0.0688, aux.acc_seg: 93.8332, loss: 0.7220, grad_norm: 11.5842\n",
      "2022-11-08 17:15:11,705 - mmseg - INFO - Iter [6150/8000]\tlr: 1.000e-04, eta: 0:06:42, time: 0.169, data_time: 0.005, memory: 3509, decode.loss_ce.s0: 0.3689, decode.acc_seg.s0: 91.0096, decode.loss_ce.s1: 0.3590, decode.acc_seg.s1: 91.0773, decode.loss_ce.s2: 0.3536, decode.acc_seg.s2: 91.3350, decode.loss_ce.s3: 0.3572, decode.acc_seg.s3: 91.3615, aux.loss_ce: 0.1469, aux.acc_seg: 90.9113, loss: 1.5856, grad_norm: 17.4198\n",
      "2022-11-08 17:15:20,075 - mmseg - INFO - Iter [6200/8000]\tlr: 1.000e-04, eta: 0:06:30, time: 0.167, data_time: 0.005, memory: 3509, decode.loss_ce.s0: 0.4186, decode.acc_seg.s0: 91.4516, decode.loss_ce.s1: 0.3371, decode.acc_seg.s1: 91.5045, decode.loss_ce.s2: 0.3217, decode.acc_seg.s2: 91.6173, decode.loss_ce.s3: 0.3322, decode.acc_seg.s3: 91.5949, aux.loss_ce: 0.1716, aux.acc_seg: 91.5341, loss: 1.5811, grad_norm: 20.2178\n",
      "2022-11-08 17:15:28,478 - mmseg - INFO - Iter [6250/8000]\tlr: 1.000e-04, eta: 0:06:19, time: 0.168, data_time: 0.005, memory: 3509, decode.loss_ce.s0: 0.1969, decode.acc_seg.s0: 93.5980, decode.loss_ce.s1: 0.1880, decode.acc_seg.s1: 93.5835, decode.loss_ce.s2: 0.1858, decode.acc_seg.s2: 93.5278, decode.loss_ce.s3: 0.1889, decode.acc_seg.s3: 93.5977, aux.loss_ce: 0.0808, aux.acc_seg: 93.7140, loss: 0.8403, grad_norm: 12.2220\n",
      "2022-11-08 17:15:36,798 - mmseg - INFO - Iter [6300/8000]\tlr: 1.000e-04, eta: 0:06:07, time: 0.166, data_time: 0.005, memory: 3509, decode.loss_ce.s0: 0.3341, decode.acc_seg.s0: 90.3526, decode.loss_ce.s1: 0.3448, decode.acc_seg.s1: 90.0481, decode.loss_ce.s2: 0.3536, decode.acc_seg.s2: 90.0014, decode.loss_ce.s3: 0.3459, decode.acc_seg.s3: 90.0251, aux.loss_ce: 0.1427, aux.acc_seg: 89.6988, loss: 1.5212, grad_norm: 33.7722\n",
      "2022-11-08 17:15:45,477 - mmseg - INFO - Iter [6350/8000]\tlr: 1.000e-04, eta: 0:05:56, time: 0.174, data_time: 0.005, memory: 3509, decode.loss_ce.s0: 0.2935, decode.acc_seg.s0: 92.1936, decode.loss_ce.s1: 0.2594, decode.acc_seg.s1: 92.4405, decode.loss_ce.s2: 0.2597, decode.acc_seg.s2: 92.4755, decode.loss_ce.s3: 0.2633, decode.acc_seg.s3: 92.4992, aux.loss_ce: 0.1254, aux.acc_seg: 92.1531, loss: 1.2014, grad_norm: 16.4087\n",
      "2022-11-08 17:15:53,624 - mmseg - INFO - Saving checkpoint at 6400 iterations\n",
      "2022-11-08 17:16:04,417 - mmseg - INFO - Iter [6400/8000]\tlr: 1.000e-04, eta: 0:05:47, time: 0.379, data_time: 0.005, memory: 3509, decode.loss_ce.s0: 0.3177, decode.acc_seg.s0: 91.0021, decode.loss_ce.s1: 0.3135, decode.acc_seg.s1: 91.2220, decode.loss_ce.s2: 0.3191, decode.acc_seg.s2: 91.3624, decode.loss_ce.s3: 0.3155, decode.acc_seg.s3: 91.4140, aux.loss_ce: 0.1246, aux.acc_seg: 90.7490, loss: 1.3903, grad_norm: 28.2527\n"
     ]
    },
    {
     "name": "stdout",
     "output_type": "stream",
     "text": [
      "[>>>>>>>>>>>>>>>>>>>>>>>>>>>>>] 406/406, 16.1 task/s, elapsed: 25s, ETA:     0s"
     ]
    },
    {
     "name": "stderr",
     "output_type": "stream",
     "text": [
      "2022-11-08 17:16:29,605 - mmseg - INFO - per class results:\n",
      "2022-11-08 17:16:29,607 - mmseg - INFO - \n",
      "+------------+-------+-------+\n",
      "|   Class    |  IoU  |  Acc  |\n",
      "+------------+-------+-------+\n",
      "| background |  88.7 | 94.83 |\n",
      "|   normal   | 92.74 | 97.82 |\n",
      "|   doyeol   |  nan  |  nan  |\n",
      "|   dobok    |  0.0  |  0.0  |\n",
      "|   gyulju   |  9.57 | 10.02 |\n",
      "|   bujin    |  0.0  |  0.0  |\n",
      "+------------+-------+-------+\n",
      "2022-11-08 17:16:29,607 - mmseg - INFO - Summary:\n",
      "2022-11-08 17:16:29,608 - mmseg - INFO - \n",
      "+-------+------+-------+\n",
      "|  aAcc | mIoU |  mAcc |\n",
      "+-------+------+-------+\n",
      "| 94.26 | 38.2 | 40.53 |\n",
      "+-------+------+-------+\n",
      "2022-11-08 17:16:29,609 - mmseg - INFO - Iter(val) [406]\taAcc: 0.9426, mIoU: 0.3820, mAcc: 0.4053, IoU.background: 0.8870, IoU.normal: 0.9274, IoU.doyeol: nan, IoU.dobok: 0.0000, IoU.gyulju: 0.0957, IoU.bujin: 0.0000, Acc.background: 0.9483, Acc.normal: 0.9782, Acc.doyeol: nan, Acc.dobok: 0.0000, Acc.gyulju: 0.1002, Acc.bujin: 0.0000\n",
      "2022-11-08 17:16:38,703 - mmseg - INFO - Iter [6450/8000]\tlr: 1.000e-04, eta: 0:05:42, time: 0.686, data_time: 0.509, memory: 3509, decode.loss_ce.s0: 0.2481, decode.acc_seg.s0: 91.7933, decode.loss_ce.s1: 0.2291, decode.acc_seg.s1: 92.1905, decode.loss_ce.s2: 0.2232, decode.acc_seg.s2: 92.3022, decode.loss_ce.s3: 0.2280, decode.acc_seg.s3: 92.2931, aux.loss_ce: 0.0994, aux.acc_seg: 91.7491, loss: 1.0278, grad_norm: 15.7088\n",
      "2022-11-08 17:16:49,908 - mmseg - INFO - Iter [6500/8000]\tlr: 1.000e-04, eta: 0:05:31, time: 0.224, data_time: 0.049, memory: 3509, decode.loss_ce.s0: 0.2465, decode.acc_seg.s0: 91.6365, decode.loss_ce.s1: 0.2476, decode.acc_seg.s1: 92.0883, decode.loss_ce.s2: 0.2475, decode.acc_seg.s2: 92.1487, decode.loss_ce.s3: 0.2570, decode.acc_seg.s3: 92.1560, aux.loss_ce: 0.1048, aux.acc_seg: 90.7996, loss: 1.1033, grad_norm: 13.3778\n",
      "2022-11-08 17:16:58,527 - mmseg - INFO - Iter [6550/8000]\tlr: 1.000e-04, eta: 0:05:19, time: 0.172, data_time: 0.005, memory: 3509, decode.loss_ce.s0: 0.2846, decode.acc_seg.s0: 91.9678, decode.loss_ce.s1: 0.2177, decode.acc_seg.s1: 92.6173, decode.loss_ce.s2: 0.2136, decode.acc_seg.s2: 92.6899, decode.loss_ce.s3: 0.2134, decode.acc_seg.s3: 92.7149, aux.loss_ce: 0.1245, aux.acc_seg: 91.3335, loss: 1.0537, grad_norm: 19.5357\n",
      "2022-11-08 17:17:07,044 - mmseg - INFO - Iter [6600/8000]\tlr: 1.000e-04, eta: 0:05:08, time: 0.170, data_time: 0.005, memory: 3509, decode.loss_ce.s0: 0.1500, decode.acc_seg.s0: 94.7110, decode.loss_ce.s1: 0.1440, decode.acc_seg.s1: 94.6324, decode.loss_ce.s2: 0.1446, decode.acc_seg.s2: 94.4969, decode.loss_ce.s3: 0.1457, decode.acc_seg.s3: 94.5313, aux.loss_ce: 0.0635, aux.acc_seg: 94.6111, loss: 0.6478, grad_norm: 8.3631\n",
      "2022-11-08 17:17:15,659 - mmseg - INFO - Iter [6650/8000]\tlr: 1.000e-04, eta: 0:04:56, time: 0.172, data_time: 0.005, memory: 3509, decode.loss_ce.s0: 0.1833, decode.acc_seg.s0: 93.6751, decode.loss_ce.s1: 0.1788, decode.acc_seg.s1: 93.6697, decode.loss_ce.s2: 0.1694, decode.acc_seg.s2: 93.7675, decode.loss_ce.s3: 0.1738, decode.acc_seg.s3: 93.7890, aux.loss_ce: 0.0844, aux.acc_seg: 92.9877, loss: 0.7897, grad_norm: 12.0549\n",
      "2022-11-08 17:17:23,969 - mmseg - INFO - Iter [6700/8000]\tlr: 1.000e-04, eta: 0:04:45, time: 0.166, data_time: 0.005, memory: 3509, decode.loss_ce.s0: 0.2794, decode.acc_seg.s0: 91.7206, decode.loss_ce.s1: 0.2434, decode.acc_seg.s1: 91.6746, decode.loss_ce.s2: 0.2312, decode.acc_seg.s2: 91.8577, decode.loss_ce.s3: 0.2368, decode.acc_seg.s3: 91.8222, aux.loss_ce: 0.1239, aux.acc_seg: 91.3294, loss: 1.1147, grad_norm: 17.2834\n",
      "2022-11-08 17:17:32,330 - mmseg - INFO - Iter [6750/8000]\tlr: 1.000e-04, eta: 0:04:33, time: 0.167, data_time: 0.004, memory: 3509, decode.loss_ce.s0: 0.2878, decode.acc_seg.s0: 91.4012, decode.loss_ce.s1: 0.2450, decode.acc_seg.s1: 91.4382, decode.loss_ce.s2: 0.2389, decode.acc_seg.s2: 91.5098, decode.loss_ce.s3: 0.2408, decode.acc_seg.s3: 91.4144, aux.loss_ce: 0.1270, aux.acc_seg: 91.1183, loss: 1.1397, grad_norm: 22.8845\n",
      "2022-11-08 17:17:41,059 - mmseg - INFO - Iter [6800/8000]\tlr: 1.000e-04, eta: 0:04:22, time: 0.175, data_time: 0.005, memory: 3509, decode.loss_ce.s0: 0.2746, decode.acc_seg.s0: 91.5191, decode.loss_ce.s1: 0.2631, decode.acc_seg.s1: 91.5757, decode.loss_ce.s2: 0.2624, decode.acc_seg.s2: 91.5626, decode.loss_ce.s3: 0.2635, decode.acc_seg.s3: 91.5416, aux.loss_ce: 0.1120, aux.acc_seg: 91.2724, loss: 1.1755, grad_norm: 17.2118\n",
      "2022-11-08 17:17:49,693 - mmseg - INFO - Iter [6850/8000]\tlr: 1.000e-04, eta: 0:04:10, time: 0.173, data_time: 0.005, memory: 3509, decode.loss_ce.s0: 0.3173, decode.acc_seg.s0: 91.1747, decode.loss_ce.s1: 0.2960, decode.acc_seg.s1: 91.1787, decode.loss_ce.s2: 0.2936, decode.acc_seg.s2: 91.1748, decode.loss_ce.s3: 0.2900, decode.acc_seg.s3: 91.1812, aux.loss_ce: 0.1369, aux.acc_seg: 91.2582, loss: 1.3338, grad_norm: 19.4090\n",
      "2022-11-08 17:17:58,198 - mmseg - INFO - Iter [6900/8000]\tlr: 1.000e-04, eta: 0:03:59, time: 0.170, data_time: 0.005, memory: 3509, decode.loss_ce.s0: 0.2715, decode.acc_seg.s0: 92.0038, decode.loss_ce.s1: 0.2691, decode.acc_seg.s1: 91.8739, decode.loss_ce.s2: 0.2682, decode.acc_seg.s2: 91.8366, decode.loss_ce.s3: 0.2580, decode.acc_seg.s3: 91.8521, aux.loss_ce: 0.1139, aux.acc_seg: 91.5103, loss: 1.1806, grad_norm: 17.7767\n",
      "2022-11-08 17:18:06,538 - mmseg - INFO - Iter [6950/8000]\tlr: 1.000e-04, eta: 0:03:48, time: 0.167, data_time: 0.005, memory: 3509, decode.loss_ce.s0: 0.3687, decode.acc_seg.s0: 90.6099, decode.loss_ce.s1: 0.2866, decode.acc_seg.s1: 90.8619, decode.loss_ce.s2: 0.2763, decode.acc_seg.s2: 90.9668, decode.loss_ce.s3: 0.2911, decode.acc_seg.s3: 90.8988, aux.loss_ce: 0.1529, aux.acc_seg: 90.7341, loss: 1.3756, grad_norm: 22.5808\n",
      "2022-11-08 17:18:15,296 - mmseg - INFO - Iter [7000/8000]\tlr: 1.000e-04, eta: 0:03:37, time: 0.175, data_time: 0.005, memory: 3509, decode.loss_ce.s0: 0.2690, decode.acc_seg.s0: 92.8927, decode.loss_ce.s1: 0.2136, decode.acc_seg.s1: 92.9158, decode.loss_ce.s2: 0.2088, decode.acc_seg.s2: 92.8728, decode.loss_ce.s3: 0.2111, decode.acc_seg.s3: 92.8099, aux.loss_ce: 0.1101, aux.acc_seg: 92.9852, loss: 1.0126, grad_norm: 11.0787\n",
      "2022-11-08 17:18:23,998 - mmseg - INFO - Iter [7050/8000]\tlr: 1.000e-04, eta: 0:03:26, time: 0.174, data_time: 0.005, memory: 3509, decode.loss_ce.s0: 0.1488, decode.acc_seg.s0: 94.3478, decode.loss_ce.s1: 0.1417, decode.acc_seg.s1: 94.4960, decode.loss_ce.s2: 0.1348, decode.acc_seg.s2: 94.7412, decode.loss_ce.s3: 0.1355, decode.acc_seg.s3: 94.7360, aux.loss_ce: 0.0629, aux.acc_seg: 94.1497, loss: 0.6236, grad_norm: 9.1141\n",
      "2022-11-08 17:18:32,982 - mmseg - INFO - Iter [7100/8000]\tlr: 1.000e-04, eta: 0:03:14, time: 0.180, data_time: 0.005, memory: 3509, decode.loss_ce.s0: 0.2412, decode.acc_seg.s0: 92.6051, decode.loss_ce.s1: 0.2209, decode.acc_seg.s1: 92.8556, decode.loss_ce.s2: 0.2128, decode.acc_seg.s2: 92.8950, decode.loss_ce.s3: 0.2138, decode.acc_seg.s3: 92.8995, aux.loss_ce: 0.1039, aux.acc_seg: 92.1960, loss: 0.9926, grad_norm: 12.3211\n",
      "2022-11-08 17:18:41,572 - mmseg - INFO - Iter [7150/8000]\tlr: 1.000e-04, eta: 0:03:03, time: 0.172, data_time: 0.005, memory: 3509, decode.loss_ce.s0: 0.1996, decode.acc_seg.s0: 92.8708, decode.loss_ce.s1: 0.2231, decode.acc_seg.s1: 92.8925, decode.loss_ce.s2: 0.2126, decode.acc_seg.s2: 93.0192, decode.loss_ce.s3: 0.2090, decode.acc_seg.s3: 92.9787, aux.loss_ce: 0.0813, aux.acc_seg: 92.6811, loss: 0.9256, grad_norm: 11.0950\n",
      "2022-11-08 17:18:50,248 - mmseg - INFO - Saving checkpoint at 7200 iterations\n",
      "2022-11-08 17:19:00,889 - mmseg - INFO - Iter [7200/8000]\tlr: 1.000e-04, eta: 0:02:53, time: 0.386, data_time: 0.005, memory: 3509, decode.loss_ce.s0: 0.2643, decode.acc_seg.s0: 92.0881, decode.loss_ce.s1: 0.2505, decode.acc_seg.s1: 92.1337, decode.loss_ce.s2: 0.2512, decode.acc_seg.s2: 92.0765, decode.loss_ce.s3: 0.2461, decode.acc_seg.s3: 92.1007, aux.loss_ce: 0.1052, aux.acc_seg: 91.8691, loss: 1.1172, grad_norm: 24.3001\n"
     ]
    },
    {
     "name": "stdout",
     "output_type": "stream",
     "text": [
      "[>>>>>>>>>>>>>>>>>>>>>>>>>>>>>] 406/406, 14.1 task/s, elapsed: 29s, ETA:     0s"
     ]
    },
    {
     "name": "stderr",
     "output_type": "stream",
     "text": [
      "2022-11-08 17:19:29,631 - mmseg - INFO - per class results:\n",
      "2022-11-08 17:19:29,637 - mmseg - INFO - \n",
      "+------------+-------+-------+\n",
      "|   Class    |  IoU  |  Acc  |\n",
      "+------------+-------+-------+\n",
      "| background | 87.92 | 93.91 |\n",
      "|   normal   | 92.66 | 97.71 |\n",
      "|   doyeol   |  nan  |  nan  |\n",
      "|   dobok    |  0.0  |  0.0  |\n",
      "|   gyulju   | 15.42 | 17.41 |\n",
      "|   bujin    |  0.84 |  0.86 |\n",
      "+------------+-------+-------+\n",
      "2022-11-08 17:19:29,638 - mmseg - INFO - Summary:\n",
      "2022-11-08 17:19:29,640 - mmseg - INFO - \n",
      "+-------+-------+-------+\n",
      "|  aAcc |  mIoU |  mAcc |\n",
      "+-------+-------+-------+\n",
      "| 94.12 | 39.37 | 41.98 |\n",
      "+-------+-------+-------+\n",
      "2022-11-08 17:19:29,642 - mmseg - INFO - Iter(val) [406]\taAcc: 0.9412, mIoU: 0.3937, mAcc: 0.4198, IoU.background: 0.8792, IoU.normal: 0.9266, IoU.doyeol: nan, IoU.dobok: 0.0000, IoU.gyulju: 0.1542, IoU.bujin: 0.0084, Acc.background: 0.9391, Acc.normal: 0.9771, Acc.doyeol: nan, Acc.dobok: 0.0000, Acc.gyulju: 0.1741, Acc.bujin: 0.0086\n",
      "2022-11-08 17:19:38,426 - mmseg - INFO - Iter [7250/8000]\tlr: 1.000e-04, eta: 0:02:45, time: 0.751, data_time: 0.580, memory: 3509, decode.loss_ce.s0: 0.3359, decode.acc_seg.s0: 91.4551, decode.loss_ce.s1: 0.2479, decode.acc_seg.s1: 91.7155, decode.loss_ce.s2: 0.2492, decode.acc_seg.s2: 91.7720, decode.loss_ce.s3: 0.2513, decode.acc_seg.s3: 91.7931, aux.loss_ce: 0.1354, aux.acc_seg: 90.7956, loss: 1.2196, grad_norm: 21.1274\n",
      "2022-11-08 17:19:47,546 - mmseg - INFO - Iter [7300/8000]\tlr: 1.000e-04, eta: 0:02:34, time: 0.182, data_time: 0.005, memory: 3509, decode.loss_ce.s0: 0.2154, decode.acc_seg.s0: 93.0102, decode.loss_ce.s1: 0.1984, decode.acc_seg.s1: 93.2578, decode.loss_ce.s2: 0.1935, decode.acc_seg.s2: 93.4507, decode.loss_ce.s3: 0.1984, decode.acc_seg.s3: 93.4219, aux.loss_ce: 0.0937, aux.acc_seg: 92.6690, loss: 0.8994, grad_norm: 14.3656\n",
      "2022-11-08 17:19:56,293 - mmseg - INFO - Iter [7350/8000]\tlr: 1.000e-04, eta: 0:02:23, time: 0.175, data_time: 0.005, memory: 3509, decode.loss_ce.s0: 0.3406, decode.acc_seg.s0: 91.1191, decode.loss_ce.s1: 0.3435, decode.acc_seg.s1: 90.9864, decode.loss_ce.s2: 0.3397, decode.acc_seg.s2: 91.0029, decode.loss_ce.s3: 0.3365, decode.acc_seg.s3: 91.0636, aux.loss_ce: 0.1438, aux.acc_seg: 91.1722, loss: 1.5040, grad_norm: 24.3678\n",
      "2022-11-08 17:20:04,965 - mmseg - INFO - Iter [7400/8000]\tlr: 1.000e-04, eta: 0:02:12, time: 0.173, data_time: 0.005, memory: 3509, decode.loss_ce.s0: 0.2152, decode.acc_seg.s0: 92.8340, decode.loss_ce.s1: 0.1960, decode.acc_seg.s1: 93.2399, decode.loss_ce.s2: 0.1929, decode.acc_seg.s2: 93.3121, decode.loss_ce.s3: 0.1900, decode.acc_seg.s3: 93.3749, aux.loss_ce: 0.0911, aux.acc_seg: 92.1729, loss: 0.8852, grad_norm: 9.9754\n",
      "2022-11-08 17:20:14,013 - mmseg - INFO - Iter [7450/8000]\tlr: 1.000e-04, eta: 0:02:01, time: 0.181, data_time: 0.005, memory: 3509, decode.loss_ce.s0: 0.2043, decode.acc_seg.s0: 94.2554, decode.loss_ce.s1: 0.1935, decode.acc_seg.s1: 94.2941, decode.loss_ce.s2: 0.1957, decode.acc_seg.s2: 94.2732, decode.loss_ce.s3: 0.1924, decode.acc_seg.s3: 94.2677, aux.loss_ce: 0.0794, aux.acc_seg: 94.0168, loss: 0.8653, grad_norm: 16.1630\n",
      "2022-11-08 17:20:22,457 - mmseg - INFO - Iter [7500/8000]\tlr: 1.000e-04, eta: 0:01:49, time: 0.169, data_time: 0.005, memory: 3509, decode.loss_ce.s0: 0.2304, decode.acc_seg.s0: 92.3140, decode.loss_ce.s1: 0.2117, decode.acc_seg.s1: 92.0822, decode.loss_ce.s2: 0.2106, decode.acc_seg.s2: 91.9905, decode.loss_ce.s3: 0.2158, decode.acc_seg.s3: 91.9234, aux.loss_ce: 0.1099, aux.acc_seg: 91.6137, loss: 0.9784, grad_norm: 23.7180\n",
      "2022-11-08 17:20:30,862 - mmseg - INFO - Iter [7550/8000]\tlr: 1.000e-04, eta: 0:01:38, time: 0.168, data_time: 0.005, memory: 3509, decode.loss_ce.s0: 0.2374, decode.acc_seg.s0: 92.9847, decode.loss_ce.s1: 0.2367, decode.acc_seg.s1: 92.9182, decode.loss_ce.s2: 0.2467, decode.acc_seg.s2: 92.9306, decode.loss_ce.s3: 0.2494, decode.acc_seg.s3: 92.9420, aux.loss_ce: 0.1011, aux.acc_seg: 92.5788, loss: 1.0714, grad_norm: 35.3720\n",
      "2022-11-08 17:20:39,428 - mmseg - INFO - Iter [7600/8000]\tlr: 1.000e-04, eta: 0:01:27, time: 0.171, data_time: 0.005, memory: 3509, decode.loss_ce.s0: 0.1657, decode.acc_seg.s0: 93.7312, decode.loss_ce.s1: 0.1441, decode.acc_seg.s1: 94.2467, decode.loss_ce.s2: 0.1397, decode.acc_seg.s2: 94.3728, decode.loss_ce.s3: 0.1379, decode.acc_seg.s3: 94.3374, aux.loss_ce: 0.0703, aux.acc_seg: 93.2567, loss: 0.6577, grad_norm: 10.0999\n",
      "2022-11-08 17:20:48,091 - mmseg - INFO - Iter [7650/8000]\tlr: 1.000e-04, eta: 0:01:16, time: 0.173, data_time: 0.005, memory: 3509, decode.loss_ce.s0: 0.1635, decode.acc_seg.s0: 94.2562, decode.loss_ce.s1: 0.1699, decode.acc_seg.s1: 94.0823, decode.loss_ce.s2: 0.1653, decode.acc_seg.s2: 94.1207, decode.loss_ce.s3: 0.1649, decode.acc_seg.s3: 94.1905, aux.loss_ce: 0.0703, aux.acc_seg: 94.0835, loss: 0.7339, grad_norm: 11.1552\n",
      "2022-11-08 17:20:56,359 - mmseg - INFO - Iter [7700/8000]\tlr: 1.000e-04, eta: 0:01:05, time: 0.165, data_time: 0.005, memory: 3509, decode.loss_ce.s0: 0.1451, decode.acc_seg.s0: 94.5784, decode.loss_ce.s1: 0.1341, decode.acc_seg.s1: 94.5904, decode.loss_ce.s2: 0.1359, decode.acc_seg.s2: 94.5399, decode.loss_ce.s3: 0.1364, decode.acc_seg.s3: 94.5173, aux.loss_ce: 0.0625, aux.acc_seg: 94.1982, loss: 0.6140, grad_norm: 10.3679\n",
      "2022-11-08 17:21:05,149 - mmseg - INFO - Iter [7750/8000]\tlr: 1.000e-04, eta: 0:00:54, time: 0.176, data_time: 0.005, memory: 3509, decode.loss_ce.s0: 0.4628, decode.acc_seg.s0: 90.1562, decode.loss_ce.s1: 0.3366, decode.acc_seg.s1: 90.6557, decode.loss_ce.s2: 0.3299, decode.acc_seg.s2: 90.7426, decode.loss_ce.s3: 0.3355, decode.acc_seg.s3: 90.7358, aux.loss_ce: 0.1983, aux.acc_seg: 89.5037, loss: 1.6632, grad_norm: 33.9467\n",
      "2022-11-08 17:21:13,862 - mmseg - INFO - Iter [7800/8000]\tlr: 1.000e-04, eta: 0:00:43, time: 0.174, data_time: 0.005, memory: 3509, decode.loss_ce.s0: 0.1512, decode.acc_seg.s0: 94.5822, decode.loss_ce.s1: 0.1482, decode.acc_seg.s1: 94.0450, decode.loss_ce.s2: 0.1543, decode.acc_seg.s2: 93.9550, decode.loss_ce.s3: 0.1595, decode.acc_seg.s3: 93.9668, aux.loss_ce: 0.0597, aux.acc_seg: 94.1541, loss: 0.6729, grad_norm: 12.1309\n",
      "2022-11-08 17:21:22,742 - mmseg - INFO - Iter [7850/8000]\tlr: 1.000e-04, eta: 0:00:32, time: 0.178, data_time: 0.005, memory: 3509, decode.loss_ce.s0: 0.3765, decode.acc_seg.s0: 91.4471, decode.loss_ce.s1: 0.3267, decode.acc_seg.s1: 91.6387, decode.loss_ce.s2: 0.3226, decode.acc_seg.s2: 91.6392, decode.loss_ce.s3: 0.3190, decode.acc_seg.s3: 91.5564, aux.loss_ce: 0.1505, aux.acc_seg: 91.2892, loss: 1.4953, grad_norm: 11.7588\n",
      "2022-11-08 17:21:31,173 - mmseg - INFO - Iter [7900/8000]\tlr: 1.000e-04, eta: 0:00:21, time: 0.169, data_time: 0.005, memory: 3509, decode.loss_ce.s0: 0.2124, decode.acc_seg.s0: 91.9861, decode.loss_ce.s1: 0.1914, decode.acc_seg.s1: 92.1418, decode.loss_ce.s2: 0.1854, decode.acc_seg.s2: 92.1520, decode.loss_ce.s3: 0.1888, decode.acc_seg.s3: 92.0990, aux.loss_ce: 0.0897, aux.acc_seg: 91.8911, loss: 0.8676, grad_norm: 10.6844\n",
      "2022-11-08 17:21:39,697 - mmseg - INFO - Iter [7950/8000]\tlr: 1.000e-04, eta: 0:00:10, time: 0.170, data_time: 0.005, memory: 3509, decode.loss_ce.s0: 0.3253, decode.acc_seg.s0: 92.0191, decode.loss_ce.s1: 0.2694, decode.acc_seg.s1: 91.9170, decode.loss_ce.s2: 0.2684, decode.acc_seg.s2: 91.6253, decode.loss_ce.s3: 0.2728, decode.acc_seg.s3: 91.5386, aux.loss_ce: 0.1342, aux.acc_seg: 91.5885, loss: 1.2702, grad_norm: 22.4034\n",
      "2022-11-08 17:21:48,235 - mmseg - INFO - Saving checkpoint at 8000 iterations\n",
      "2022-11-08 17:22:00,297 - mmseg - INFO - Iter [8000/8000]\tlr: 1.000e-04, eta: 0:00:00, time: 0.412, data_time: 0.005, memory: 3509, decode.loss_ce.s0: 0.3248, decode.acc_seg.s0: 92.2374, decode.loss_ce.s1: 0.2655, decode.acc_seg.s1: 92.5685, decode.loss_ce.s2: 0.2634, decode.acc_seg.s2: 92.7416, decode.loss_ce.s3: 0.2677, decode.acc_seg.s3: 92.7110, aux.loss_ce: 0.1347, aux.acc_seg: 92.4419, loss: 1.2561, grad_norm: 21.9524\n"
     ]
    },
    {
     "name": "stdout",
     "output_type": "stream",
     "text": [
      "[>>>>>>>>>>>>>>>>>>>>>>>>>>>>>] 406/406, 15.2 task/s, elapsed: 27s, ETA:     0s"
     ]
    },
    {
     "name": "stderr",
     "output_type": "stream",
     "text": [
      "2022-11-08 17:22:27,060 - mmseg - INFO - per class results:\n",
      "2022-11-08 17:22:27,062 - mmseg - INFO - \n",
      "+------------+-------+-------+\n",
      "|   Class    |  IoU  |  Acc  |\n",
      "+------------+-------+-------+\n",
      "| background | 87.71 | 95.28 |\n",
      "|   normal   | 92.54 |  97.0 |\n",
      "|   doyeol   |  nan  |  nan  |\n",
      "|   dobok    |  0.0  |  0.0  |\n",
      "|   gyulju   |  19.0 | 23.08 |\n",
      "|   bujin    |  0.0  |  0.0  |\n",
      "+------------+-------+-------+\n",
      "2022-11-08 17:22:27,063 - mmseg - INFO - Summary:\n",
      "2022-11-08 17:22:27,064 - mmseg - INFO - \n",
      "+-------+-------+-------+\n",
      "|  aAcc |  mIoU |  mAcc |\n",
      "+-------+-------+-------+\n",
      "| 94.02 | 39.85 | 43.07 |\n",
      "+-------+-------+-------+\n",
      "2022-11-08 17:22:27,070 - mmseg - INFO - Iter(val) [406]\taAcc: 0.9402, mIoU: 0.3985, mAcc: 0.4307, IoU.background: 0.8771, IoU.normal: 0.9254, IoU.doyeol: nan, IoU.dobok: 0.0000, IoU.gyulju: 0.1900, IoU.bujin: 0.0000, Acc.background: 0.9528, Acc.normal: 0.9700, Acc.doyeol: nan, Acc.dobok: 0.0000, Acc.gyulju: 0.2308, Acc.bujin: 0.0000\n"
     ]
    }
   ],
   "source": [
    "\n",
    "from mmseg.datasets import build_dataset\n",
    "from mmseg.models import build_segmentor\n",
    "from mmseg.apis import train_segmentor\n",
    "\n",
    "# Build the dataset\n",
    "datasets = [build_dataset(cfg.data.train)]        #'/JH/jihye/mmsegmentation/configs/_base_/datasets/Rice_Sample.py'\n",
    "classes = ('background','nomal', 'doyeol', 'dobok', 'gyulju', 'bujin')\n",
    "palette = [[0,0,0], [8, 39, 245], [0, 229, 245], [225, 0, 26], [250, 0, 204], [245, 123, 0]]\n",
    "\n",
    "# Build the detector\n",
    "model = build_segmentor(cfg.model)               #, train_cfg=cfg.get('train_cfg'), test_cfg=cfg.get('test_cfg'))\n",
    "\n",
    "model.CLASSES = datasets[0].CLASSES\n",
    "model.Palette = datasets[0].PALETTE\n",
    "\n",
    "# Add an attribute for visualization convenience\n",
    "#model.CLASSES = datasets[0].CLASSES\n",
    "\n",
    "# Create work_dir\n",
    "mmcv.mkdir_or_exist(os.path.abspath(cfg.work_dir))\n",
    "train_segmentor(model, datasets, cfg, distributed=False, validate=True, \n",
    "                meta=dict(CLASSES=classes, PALETTE=palette))"
   ]
  },
  {
   "cell_type": "code",
   "execution_count": null,
   "id": "862961f3",
   "metadata": {},
   "outputs": [],
   "source": []
  },
  {
   "cell_type": "code",
   "execution_count": null,
   "id": "676b472f",
   "metadata": {},
   "outputs": [],
   "source": []
  },
  {
   "cell_type": "code",
   "execution_count": null,
   "id": "2d227870",
   "metadata": {},
   "outputs": [],
   "source": []
  },
  {
   "cell_type": "code",
   "execution_count": null,
   "id": "16d939e6",
   "metadata": {},
   "outputs": [],
   "source": []
  },
  {
   "cell_type": "code",
   "execution_count": null,
   "id": "8ed4bfff",
   "metadata": {},
   "outputs": [],
   "source": []
  },
  {
   "cell_type": "code",
   "execution_count": null,
   "id": "8330e205",
   "metadata": {},
   "outputs": [],
   "source": []
  },
  {
   "cell_type": "code",
   "execution_count": null,
   "id": "16425f76",
   "metadata": {},
   "outputs": [],
   "source": []
  },
  {
   "cell_type": "code",
   "execution_count": 13,
   "id": "f275385b-8541-441d-9750-e54667c0f8d4",
   "metadata": {},
   "outputs": [
    {
     "name": "stderr",
     "output_type": "stream",
     "text": [
      "2022-11-08 17:22:48,580 - mmseg - INFO - Loaded 3246 images\n"
     ]
    }
   ],
   "source": [
    "datasets = [build_dataset(cfg.data.train)]\n",
    "model = build_segmentor(cfg.model)\n",
    "# Add an attribute for visualization convenience\n",
    "model.CLASSES = datasets[0].CLASSES"
   ]
  },
  {
   "cell_type": "code",
   "execution_count": 14,
   "id": "3dc7bf03-510b-4c65-b3d0-811d2f23462a",
   "metadata": {},
   "outputs": [
    {
     "ename": "AssertionError",
     "evalue": "",
     "output_type": "error",
     "traceback": [
      "\u001b[0;31m---------------------------------------------------------------------------\u001b[0m",
      "\u001b[0;31mAssertionError\u001b[0m                            Traceback (most recent call last)",
      "\u001b[0;32m/tmp/ipykernel_24373/1550972437.py\u001b[0m in \u001b[0;36m<module>\u001b[0;34m\u001b[0m\n\u001b[1;32m      1\u001b[0m \u001b[0;31m# Train knet\u001b[0m\u001b[0;34m\u001b[0m\u001b[0;34m\u001b[0m\u001b[0;34m\u001b[0m\u001b[0m\n\u001b[0;32m----> 2\u001b[0;31m \u001b[0mknet\u001b[0m \u001b[0;34m=\u001b[0m  \u001b[0mtrain_segmentor\u001b[0m\u001b[0;34m(\u001b[0m\u001b[0mmodel\u001b[0m\u001b[0;34m,\u001b[0m \u001b[0mdatasets\u001b[0m\u001b[0;34m,\u001b[0m \u001b[0mcfg\u001b[0m\u001b[0;34m,\u001b[0m \u001b[0mdistributed\u001b[0m\u001b[0;34m=\u001b[0m\u001b[0;32mFalse\u001b[0m\u001b[0;34m,\u001b[0m \u001b[0mvalidate\u001b[0m\u001b[0;34m=\u001b[0m\u001b[0;32mTrue\u001b[0m\u001b[0;34m)\u001b[0m\u001b[0;34m\u001b[0m\u001b[0;34m\u001b[0m\u001b[0m\n\u001b[0m",
      "\u001b[0;32m/nyb/yb_RiceSeg/RiceSeg/mmsegmentation/mmseg/apis/train.py\u001b[0m in \u001b[0;36mtrain_segmentor\u001b[0;34m(model, dataset, cfg, distributed, validate, timestamp, meta)\u001b[0m\n\u001b[1;32m    140\u001b[0m     runner.register_training_hooks(cfg.lr_config, cfg.optimizer_config,\n\u001b[1;32m    141\u001b[0m                                    \u001b[0mcfg\u001b[0m\u001b[0;34m.\u001b[0m\u001b[0mcheckpoint_config\u001b[0m\u001b[0;34m,\u001b[0m \u001b[0mcfg\u001b[0m\u001b[0;34m.\u001b[0m\u001b[0mlog_config\u001b[0m\u001b[0;34m,\u001b[0m\u001b[0;34m\u001b[0m\u001b[0;34m\u001b[0m\u001b[0m\n\u001b[0;32m--> 142\u001b[0;31m                                    cfg.get('momentum_config', None))\n\u001b[0m\u001b[1;32m    143\u001b[0m     \u001b[0;32mif\u001b[0m \u001b[0mdistributed\u001b[0m\u001b[0;34m:\u001b[0m\u001b[0;34m\u001b[0m\u001b[0;34m\u001b[0m\u001b[0m\n\u001b[1;32m    144\u001b[0m         \u001b[0;31m# when distributed training by epoch, using`DistSamplerSeedHook` to set\u001b[0m\u001b[0;34m\u001b[0m\u001b[0;34m\u001b[0m\u001b[0;34m\u001b[0m\u001b[0m\n",
      "\u001b[0;32m/opt/conda/lib/python3.7/site-packages/mmcv/runner/iter_based_runner.py\u001b[0m in \u001b[0;36mregister_training_hooks\u001b[0;34m(self, lr_config, optimizer_config, checkpoint_config, log_config, momentum_config, custom_hooks_config)\u001b[0m\n\u001b[1;32m    283\u001b[0m             \u001b[0mlog_config\u001b[0m\u001b[0;34m=\u001b[0m\u001b[0mlog_config\u001b[0m\u001b[0;34m,\u001b[0m\u001b[0;34m\u001b[0m\u001b[0;34m\u001b[0m\u001b[0m\n\u001b[1;32m    284\u001b[0m             \u001b[0mtimer_config\u001b[0m\u001b[0;34m=\u001b[0m\u001b[0mIterTimerHook\u001b[0m\u001b[0;34m(\u001b[0m\u001b[0;34m)\u001b[0m\u001b[0;34m,\u001b[0m\u001b[0;34m\u001b[0m\u001b[0;34m\u001b[0m\u001b[0m\n\u001b[0;32m--> 285\u001b[0;31m             custom_hooks_config=custom_hooks_config)\n\u001b[0m",
      "\u001b[0;32m/opt/conda/lib/python3.7/site-packages/mmcv/runner/base_runner.py\u001b[0m in \u001b[0;36mregister_training_hooks\u001b[0;34m(self, lr_config, optimizer_config, checkpoint_config, log_config, momentum_config, timer_config, custom_hooks_config)\u001b[0m\n\u001b[1;32m    558\u001b[0m         \u001b[0mwill\u001b[0m \u001b[0mbe\u001b[0m \u001b[0mtriggered\u001b[0m \u001b[0mafter\u001b[0m \u001b[0mdefault\u001b[0m \u001b[0mhooks\u001b[0m\u001b[0;34m.\u001b[0m\u001b[0;34m\u001b[0m\u001b[0;34m\u001b[0m\u001b[0m\n\u001b[1;32m    559\u001b[0m         \"\"\"\n\u001b[0;32m--> 560\u001b[0;31m         \u001b[0mself\u001b[0m\u001b[0;34m.\u001b[0m\u001b[0mregister_lr_hook\u001b[0m\u001b[0;34m(\u001b[0m\u001b[0mlr_config\u001b[0m\u001b[0;34m)\u001b[0m\u001b[0;34m\u001b[0m\u001b[0;34m\u001b[0m\u001b[0m\n\u001b[0m\u001b[1;32m    561\u001b[0m         \u001b[0mself\u001b[0m\u001b[0;34m.\u001b[0m\u001b[0mregister_momentum_hook\u001b[0m\u001b[0;34m(\u001b[0m\u001b[0mmomentum_config\u001b[0m\u001b[0;34m)\u001b[0m\u001b[0;34m\u001b[0m\u001b[0;34m\u001b[0m\u001b[0m\n\u001b[1;32m    562\u001b[0m         \u001b[0mself\u001b[0m\u001b[0;34m.\u001b[0m\u001b[0mregister_optimizer_hook\u001b[0m\u001b[0;34m(\u001b[0m\u001b[0moptimizer_config\u001b[0m\u001b[0;34m)\u001b[0m\u001b[0;34m\u001b[0m\u001b[0;34m\u001b[0m\u001b[0m\n",
      "\u001b[0;32m/opt/conda/lib/python3.7/site-packages/mmcv/runner/base_runner.py\u001b[0m in \u001b[0;36mregister_lr_hook\u001b[0;34m(self, lr_config)\u001b[0m\n\u001b[1;32m    414\u001b[0m             \u001b[0;32mreturn\u001b[0m\u001b[0;34m\u001b[0m\u001b[0;34m\u001b[0m\u001b[0m\n\u001b[1;32m    415\u001b[0m         \u001b[0;32melif\u001b[0m \u001b[0misinstance\u001b[0m\u001b[0;34m(\u001b[0m\u001b[0mlr_config\u001b[0m\u001b[0;34m,\u001b[0m \u001b[0mdict\u001b[0m\u001b[0;34m)\u001b[0m\u001b[0;34m:\u001b[0m\u001b[0;34m\u001b[0m\u001b[0;34m\u001b[0m\u001b[0m\n\u001b[0;32m--> 416\u001b[0;31m             \u001b[0;32massert\u001b[0m \u001b[0;34m'policy'\u001b[0m \u001b[0;32min\u001b[0m \u001b[0mlr_config\u001b[0m\u001b[0;34m\u001b[0m\u001b[0;34m\u001b[0m\u001b[0m\n\u001b[0m\u001b[1;32m    417\u001b[0m             \u001b[0mpolicy_type\u001b[0m \u001b[0;34m=\u001b[0m \u001b[0mlr_config\u001b[0m\u001b[0;34m.\u001b[0m\u001b[0mpop\u001b[0m\u001b[0;34m(\u001b[0m\u001b[0;34m'policy'\u001b[0m\u001b[0;34m)\u001b[0m\u001b[0;34m\u001b[0m\u001b[0;34m\u001b[0m\u001b[0m\n\u001b[1;32m    418\u001b[0m             \u001b[0;31m# If the type of policy is all in lower case, e.g., 'cyclic',\u001b[0m\u001b[0;34m\u001b[0m\u001b[0;34m\u001b[0m\u001b[0;34m\u001b[0m\u001b[0m\n",
      "\u001b[0;31mAssertionError\u001b[0m: "
     ]
    }
   ],
   "source": [
    "# Train knet\n",
    "knet =  train_segmentor(model, datasets, cfg, distributed=False, validate=True)"
   ]
  },
  {
   "cell_type": "code",
   "execution_count": null,
   "id": "f4e0fd65",
   "metadata": {},
   "outputs": [],
   "source": []
  },
  {
   "cell_type": "markdown",
   "id": "c0f4f0be",
   "metadata": {},
   "source": []
  },
  {
   "cell_type": "code",
   "execution_count": null,
   "id": "2c3db90a",
   "metadata": {},
   "outputs": [],
   "source": []
  },
  {
   "cell_type": "code",
   "execution_count": null,
   "id": "d21f9708",
   "metadata": {},
   "outputs": [],
   "source": []
  },
  {
   "cell_type": "code",
   "execution_count": null,
   "id": "28a041d1",
   "metadata": {},
   "outputs": [],
   "source": []
  },
  {
   "cell_type": "code",
   "execution_count": null,
   "id": "12b8ee92-4c2f-4700-a469-25a9840bf1fe",
   "metadata": {},
   "outputs": [],
   "source": [
    "#model.save('knet.h5')"
   ]
  },
  {
   "cell_type": "code",
   "execution_count": null,
   "id": "5ab8195e-1c65-4dfd-8060-f89ebf10f11f",
   "metadata": {},
   "outputs": [],
   "source": []
  }
 ],
 "metadata": {
  "kernelspec": {
   "display_name": "Python 3.7.13 ('base')",
   "language": "python",
   "name": "python3"
  },
  "language_info": {
   "codemirror_mode": {
    "name": "ipython",
    "version": 3
   },
   "file_extension": ".py",
   "mimetype": "text/x-python",
   "name": "python",
   "nbconvert_exporter": "python",
   "pygments_lexer": "ipython3",
   "version": "3.7.13"
  },
  "vscode": {
   "interpreter": {
    "hash": "d4d1e4263499bec80672ea0156c357c1ee493ec2b1c70f0acce89fc37c4a6abe"
   }
  }
 },
 "nbformat": 4,
 "nbformat_minor": 5
}
